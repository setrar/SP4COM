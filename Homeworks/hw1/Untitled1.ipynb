{
 "cells": [
  {
   "cell_type": "markdown",
   "id": "41e16a47-373a-40e7-82e8-f4bc9c3c0741",
   "metadata": {},
   "source": [
    "\n",
    "2. **Projection Matrices:**\n",
    "   - $ P_{\\mathbf{g}} = \\mathbf{g} (\\mathbf{g}^H \\mathbf{g})^{-1} \\mathbf{g}^H $ — Projects onto the subspace spanned by $ \\mathbf{g} $.\n",
    "   - $ P_{\\mathbf{g}}^{\\perp} = I - P_{\\mathbf{g}} $ — Projects onto the orthogonal complement of $ \\mathbf{g} $.\n",
    "\n"
   ]
  },
  {
   "cell_type": "code",
   "execution_count": 7,
   "id": "f8dacff8-7e35-44bf-97d2-7c3422a04e9d",
   "metadata": {},
   "outputs": [],
   "source": [
    "using LinearAlgebra\n",
    "using FFTW"
   ]
  },
  {
   "cell_type": "code",
   "execution_count": 8,
   "id": "cc37bb2f-1c6f-48fc-841c-0c6c882bccc5",
   "metadata": {},
   "outputs": [
    {
     "data": {
      "text/plain": [
       "norm (generic function with 8 methods)"
      ]
     },
     "execution_count": 8,
     "metadata": {},
     "output_type": "execute_result"
    }
   ],
   "source": [
    "include(\"_support/operations.jl\")"
   ]
  },
  {
   "cell_type": "code",
   "execution_count": 13,
   "id": "8508eb02-9bac-43d0-a121-675699308681",
   "metadata": {},
   "outputs": [
    {
     "name": "stdout",
     "output_type": "stream",
     "text": [
      "Vector g: Complex{Int64}[3 + 4im, 2 + 1im]\n",
      "Projection matrix P_g: ComplexF64[0.875 + 0.125im 0.37499999999999994 - 0.12499999999999999im; 0.37499999999999994 - 0.12499999999999999im 0.125 - 0.12499999999999999im]\n",
      "Projection matrix P_g_perp: ComplexF64[0.125 - 0.125im -0.37499999999999994 + 0.12499999999999999im; -0.37499999999999994 + 0.12499999999999999im 0.875 + 0.12499999999999999im]\n",
      "Original vector v: Complex{Int64}[1 + 0im, 1 + 0im]\n",
      "Projection of v onto subspace spanned by g: ComplexF64[1.25 + 1.3877787807814457e-17im, 0.49999999999999994 - 0.24999999999999997im]\n",
      "Projection of v onto orthogonal complement of g: ComplexF64[-0.24999999999999994 - 1.3877787807814457e-17im, 0.5 + 0.24999999999999997im]\n"
     ]
    }
   ],
   "source": [
    "\n",
    "\n",
    "# Define the vector g\n",
    "g = [3 + 4im, 2 + 1im]\n",
    "\n",
    "# Compute the projection matrix P_g onto the subspace spanned by g\n",
    "# Adjusted to handle vector normalization and outer product calculation directly\n",
    "P₉ = (g * (g)ᵀ) / ((g)ᵀ * g)\n",
    "\n",
    "# Compute the projection matrix P_g⊥ onto the orthogonal complement of the subspace spanned by g\n",
    "# Directly using I, the identity matrix\n",
    "P₉⁺ = I - P₉\n",
    "\n",
    "# Define another vector v\n",
    "v = [1 + 0im, 1 + 0im]\n",
    "\n",
    "# Project vector v onto the subspace spanned by g\n",
    "v₊₉ = P₉ * v\n",
    "\n",
    "# Project vector v onto the orthogonal complement of the subspace spanned by g\n",
    "v₊₉⁺ = P₉⁺ * v\n",
    "\n",
    "println(\"Vector g: \", g)\n",
    "println(\"Projection matrix P_g: \", P₉)\n",
    "println(\"Projection matrix P_g_perp: \", P₉⁺)\n",
    "println(\"Original vector v: \", v)\n",
    "println(\"Projection of v onto subspace spanned by g: \", v₊₉)\n",
    "println(\"Projection of v onto orthogonal complement of g: \", v₊₉⁺)\n"
   ]
  },
  {
   "cell_type": "code",
   "execution_count": 15,
   "id": "969dd212-2cf7-4899-a9d3-e46fa328c78d",
   "metadata": {},
   "outputs": [],
   "source": [
    "using Plots"
   ]
  },
  {
   "cell_type": "code",
   "execution_count": 20,
   "id": "e421ce13-7411-49ab-8284-d1c8c749abc4",
   "metadata": {},
   "outputs": [
    {
     "ename": "LoadError",
     "evalue": "Couldn't process recipe args: (Vector{Int64}, Vector{Int64}, Vector{Int64}, Vector{Int64})",
     "output_type": "error",
     "traceback": [
      "Couldn't process recipe args: (Vector{Int64}, Vector{Int64}, Vector{Int64}, Vector{Int64})",
      "",
      "Stacktrace:",
      "  [1] error(s::String)",
      "    @ Base ./error.jl:35",
      "  [2] macro expansion",
      "    @ ~/.julia/packages/RecipesPipeline/BGM3l/src/user_recipe.jl:158 [inlined]",
      "  [3] apply_recipe(::AbstractDict{Symbol, Any}, ::Any, ::Any, ::Any, ::Any)",
      "    @ RecipesPipeline ~/.julia/packages/RecipesBase/BRe07/src/RecipesBase.jl:300",
      "  [4] _process_userrecipes!(plt::Any, plotattributes::Any, args::Any)",
      "    @ RecipesPipeline ~/.julia/packages/RecipesPipeline/BGM3l/src/user_recipe.jl:38",
      "  [5] recipe_pipeline!(plt::Any, plotattributes::Any, args::Any)",
      "    @ RecipesPipeline ~/.julia/packages/RecipesPipeline/BGM3l/src/RecipesPipeline.jl:72",
      "  [6] _plot!(plt::Plots.Plot, plotattributes::Any, args::Any)",
      "    @ Plots ~/.julia/packages/Plots/ju9dp/src/plot.jl:223",
      "  [7] plot!(::Plots.Plot, ::Any, ::Vararg{Any}; kw...)",
      "    @ Plots ~/.julia/packages/Plots/ju9dp/src/plot.jl:213",
      "  [8] plot!(::Any, ::Vararg{Any}; kw...)",
      "    @ Plots ~/.julia/packages/Plots/ju9dp/src/plot.jl:202",
      "  [9] quiver!(::Any, ::Vararg{Any}; kw...)",
      "    @ Plots ~/.julia/packages/RecipesBase/BRe07/src/RecipesBase.jl:429",
      " [10] top-level scope",
      "    @ In[20]:4"
     ]
    }
   ],
   "source": [
    "# Plotting\n",
    "plot()\n",
    "# Original vector v\n",
    "quiver!([0], [0], [real(v[1])], [imag(v[1])]\n",
    "    , color=:blue, label=\"Original vector v\", linewidth=2)\n",
    "# Vector g\n",
    "quiver!([0], [0], [real(g[1])], [imag(g[1])]\n",
    "    , color=:red, label=\"Vector g\", linewidth=2)\n",
    "# Projection of v onto g\n",
    "quiver!([0], [0], [real(v₊₉[1])]\n",
    "    , [imag(v₊₉[1])], color=:green, linestyle=:dash, label=\"Projection onto g\", linewidth=2)\n",
    "# Projection of v onto g⊥\n",
    "quiver!([0], [0], [real(v₊₉⁺[1])], [imag(v₊₉⁺[1])]\n",
    "    , color=:purple, linestyle=:dot, label=\"Projection onto g⊥\", linewidth=2)\n",
    "\n",
    "xlabel!(\"Real part\")\n",
    "ylabel!(\"Imaginary part\")\n",
    "title!(\"Vector Projections\")\n",
    "legend(:topright)\n",
    "\n",
    "# Set plot attributes\n",
    "xlabel!(\"Real part\")\n",
    "ylabel!(\"Imaginary part\")\n",
    "title!(\"Projections of vector v\")\n",
    "# legend(:topright)\n",
    "grid(true)"
   ]
  },
  {
   "cell_type": "code",
   "execution_count": null,
   "id": "5528a48b-bf78-4a9e-b99b-db421807389a",
   "metadata": {},
   "outputs": [],
   "source": []
  }
 ],
 "metadata": {
  "kernelspec": {
   "display_name": "Julia 1.9.3",
   "language": "julia",
   "name": "julia-1.9"
  },
  "language_info": {
   "file_extension": ".jl",
   "mimetype": "application/julia",
   "name": "julia",
   "version": "1.10.3"
  }
 },
 "nbformat": 4,
 "nbformat_minor": 5
}
