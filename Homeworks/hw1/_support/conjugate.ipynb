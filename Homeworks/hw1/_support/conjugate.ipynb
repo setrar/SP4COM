{
 "cells": [
  {
   "cell_type": "code",
   "execution_count": 1,
   "id": "5dbe026c-4524-4e6f-b3ff-f233294a5af9",
   "metadata": {},
   "outputs": [
    {
     "data": {
      "text/plain": [
       "2×2 Matrix{Complex{Int64}}:\n",
       " 1+2im  3-4im\n",
       " 5+6im  7-8im"
      ]
     },
     "execution_count": 1,
     "metadata": {},
     "output_type": "execute_result"
    }
   ],
   "source": [
    "X = [1+2im 3-4im; 5+6im 7-8im]"
   ]
  },
  {
   "cell_type": "code",
   "execution_count": 2,
   "id": "34448a3b-d181-4721-bbb3-de0e887338ce",
   "metadata": {},
   "outputs": [
    {
     "data": {
      "text/plain": [
       "2×2 adjoint(::Matrix{Complex{Int64}}) with eltype Complex{Int64}:\n",
       " 1-2im  5-6im\n",
       " 3+4im  7+8im"
      ]
     },
     "execution_count": 2,
     "metadata": {},
     "output_type": "execute_result"
    }
   ],
   "source": [
    "adj_X = adjoint(X)  # Returns [1-2im 5-6im; 3+4im 7+8im]\n"
   ]
  },
  {
   "cell_type": "code",
   "execution_count": 3,
   "id": "150f7fcc-8e79-484f-ba24-3494e0e83dfb",
   "metadata": {},
   "outputs": [
    {
     "data": {
      "text/plain": [
       "2×2 adjoint(::Matrix{Complex{Int64}}) with eltype Complex{Int64}:\n",
       " 1-2im  5-6im\n",
       " 3+4im  7+8im"
      ]
     },
     "execution_count": 3,
     "metadata": {},
     "output_type": "execute_result"
    }
   ],
   "source": [
    "ct_X = conj(transpose(X))  # Returns [1-2im 5-6im; 3+4im 7+8im]"
   ]
  },
  {
   "cell_type": "code",
   "execution_count": 4,
   "id": "5644dd44-3fd6-4527-b05e-a09be579a5ea",
   "metadata": {},
   "outputs": [
    {
     "data": {
      "text/plain": [
       "true"
      ]
     },
     "execution_count": 4,
     "metadata": {},
     "output_type": "execute_result"
    }
   ],
   "source": [
    "adj_X == ct_X"
   ]
  },
  {
   "cell_type": "code",
   "execution_count": 5,
   "id": "b2723a62-dd11-4128-af37-a6e2c0efe381",
   "metadata": {},
   "outputs": [],
   "source": [
    "using FFTW, LinearAlgebra"
   ]
  },
  {
   "cell_type": "code",
   "execution_count": 6,
   "id": "7f93ef50-c5f0-42aa-a98c-32fefc53706b",
   "metadata": {},
   "outputs": [
    {
     "data": {
      "text/plain": [
       "norm (generic function with 8 methods)"
      ]
     },
     "execution_count": 6,
     "metadata": {},
     "output_type": "execute_result"
    }
   ],
   "source": [
    "include(\"operations.jl\")"
   ]
  },
  {
   "cell_type": "code",
   "execution_count": 7,
   "id": "8e9900f2-ddc5-449b-95a3-e91da5af5ff2",
   "metadata": {},
   "outputs": [
    {
     "data": {
      "text/plain": [
       "true"
      ]
     },
     "execution_count": 7,
     "metadata": {},
     "output_type": "execute_result"
    }
   ],
   "source": [
    "(X)ᴴ == (X)ꜛ"
   ]
  },
  {
   "cell_type": "code",
   "execution_count": null,
   "id": "84c16d9a-6f43-4a76-a738-4b8d6ef095c1",
   "metadata": {},
   "outputs": [],
   "source": []
  }
 ],
 "metadata": {
  "kernelspec": {
   "display_name": "Julia 1.9.3",
   "language": "julia",
   "name": "julia-1.9"
  },
  "language_info": {
   "file_extension": ".jl",
   "mimetype": "application/julia",
   "name": "julia",
   "version": "1.10.3"
  }
 },
 "nbformat": 4,
 "nbformat_minor": 5
}
