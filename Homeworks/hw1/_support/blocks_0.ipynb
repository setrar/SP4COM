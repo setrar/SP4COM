{
 "cells": [
  {
   "cell_type": "code",
   "execution_count": 1,
   "id": "3dd71e88-40d7-4029-8826-81d40b453e6e",
   "metadata": {},
   "outputs": [],
   "source": [
    "using Luxor"
   ]
  },
  {
   "cell_type": "code",
   "execution_count": 2,
   "id": "ae95f78c-c2a6-4553-8631-a9283e759808",
   "metadata": {},
   "outputs": [
    {
     "data": {
      "text/plain": [
       "draw_simple_diagram (generic function with 1 method)"
      ]
     },
     "execution_count": 2,
     "metadata": {},
     "output_type": "execute_result"
    }
   ],
   "source": [
    "function draw_simple_diagram()\n",
    "    # Start a drawing\n",
    "    Drawing(800, 250, \"images/simple_diagram.png\")\n",
    "    origin()  # Set the current point to the center of the drawing\n",
    "    \n",
    "    # Define the block position and size\n",
    "    block_width = 100\n",
    "    block_height = 50\n",
    "    block_position = Point(-100, 0)  # Position of the center of the block\n",
    "    \n",
    "    # Draw the block\n",
    "    newpath()\n",
    "    rect(block_position, block_width, block_height, :stroke)\n",
    "    \n",
    "    # Draw the arrow leading to the block\n",
    "    setline(2)\n",
    "    arrow(Point(-300, 0), block_position - Point(block_width/2, 0), linewidth=2)\n",
    "    \n",
    "    # Set the font size for text and draw the labels\n",
    "    fontsize(15)\n",
    "    text(\"a[k]\", Point(-350, 5))  # Adjust the position as needed\n",
    "    text(\"h\", block_position + Point(-10, 5))  # Adjust position for the label inside the block\n",
    "    \n",
    "    # Finish the drawing and preview it\n",
    "    finish()\n",
    "    preview()\n",
    "end"
   ]
  },
  {
   "cell_type": "code",
   "execution_count": 3,
   "id": "cd668b84-2a50-4030-9234-d62eb3a16c59",
   "metadata": {},
   "outputs": [],
   "source": [
    "draw_simple_diagram();"
   ]
  },
  {
   "cell_type": "markdown",
   "id": "5f2a6600-d994-4b9e-8a8e-75c6e2722709",
   "metadata": {},
   "source": [
    "<img src=images/simple_diagram.png width='' height='' > </img>"
   ]
  },
  {
   "cell_type": "code",
   "execution_count": null,
   "id": "7da90d14-6eeb-420e-8aed-9571662dd8ac",
   "metadata": {},
   "outputs": [],
   "source": []
  }
 ],
 "metadata": {
  "kernelspec": {
   "display_name": "Julia 1.9.3",
   "language": "julia",
   "name": "julia-1.9"
  },
  "language_info": {
   "file_extension": ".jl",
   "mimetype": "application/julia",
   "name": "julia",
   "version": "1.10.2"
  }
 },
 "nbformat": 4,
 "nbformat_minor": 5
}
