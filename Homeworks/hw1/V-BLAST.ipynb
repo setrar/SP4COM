{
 "cells": [
  {
   "cell_type": "markdown",
   "id": "fbda9fb7-2b6e-41ea-8f3c-36fafa3da66b",
   "metadata": {},
   "source": [
    "# V-BLAST"
   ]
  },
  {
   "cell_type": "markdown",
   "id": "65d4d7ae-48a9-4a8c-87d0-4b9b21bb446c",
   "metadata": {},
   "source": [
    "#### (Vertical-Bell Laboratories Layered Space-Time)"
   ]
  },
  {
   "cell_type": "code",
   "execution_count": 1,
   "id": "a280fcd1-c472-4ba2-89e6-056160519f11",
   "metadata": {},
   "outputs": [],
   "source": [
    "using LinearAlgebra\n",
    "using FFTW"
   ]
  },
  {
   "cell_type": "code",
   "execution_count": 2,
   "id": "c1f83234-a24e-499f-b247-32e730cd11ae",
   "metadata": {},
   "outputs": [
    {
     "data": {
      "text/plain": [
       "norm (generic function with 8 methods)"
      ]
     },
     "execution_count": 2,
     "metadata": {},
     "output_type": "execute_result"
    }
   ],
   "source": [
    "include(\"_support/operations.jl\")"
   ]
  },
  {
   "cell_type": "code",
   "execution_count": 3,
   "id": "89bd8611-27e8-4ae9-ac94-9eceb6bb0f8b",
   "metadata": {},
   "outputs": [],
   "source": [
    "abstract type AbstractSignal{T} end\n",
    "\n",
    "struct SignalModel{T} <: AbstractSignal{T}\n",
    "    r::Vector{T} # Residual Vector\n",
    "    H::Matrix{T} # Channel Matrix\n",
    "    σ::T         # Sigma\n",
    "end\n",
    "\n",
    "struct SignalWithParams{T} <: AbstractSignal{T}\n",
    "    model::SignalModel{T}\n",
    "    w::Vector{T}\n",
    "    y::T\n",
    "    s::T\n",
    "    Gᵢ::Matrix{T}\n",
    "    k::Int\n",
    "end"
   ]
  },
  {
   "cell_type": "code",
   "execution_count": 4,
   "id": "63abc179-77c2-4cb9-8014-98d638834727",
   "metadata": {},
   "outputs": [
    {
     "data": {
      "text/plain": [
       "initialize (generic function with 1 method)"
      ]
     },
     "execution_count": 4,
     "metadata": {},
     "output_type": "execute_result"
    }
   ],
   "source": [
    "function initialize(r::Vector{T}, H::Matrix{T}, σ::T) where T\n",
    "    Nt = size(H, 2)\n",
    "    i = 1\n",
    "    r₁ = copy(r)\n",
    "    G₁ = ((H)ᵀ * H + σ^2 * I)⁻¹ * (H)ᵀ\n",
    "    k₁ = argmin([norm(G₁[:, j])^2 for j in 1:Nt])\n",
    "    return i, r₁, G₁, k₁\n",
    "end"
   ]
  },
  {
   "cell_type": "code",
   "execution_count": 5,
   "id": "bd6b3790-0cd0-4c3f-bc83-e9432ccb6f7c",
   "metadata": {},
   "outputs": [
    {
     "data": {
      "text/plain": [
       "recursive_step! (generic function with 1 method)"
      ]
     },
     "execution_count": 5,
     "metadata": {},
     "output_type": "execute_result"
    }
   ],
   "source": [
    "function recursive_step!(w::Vector{T}, y::T, s::T, r::Vector{T}, H::Matrix{T}, σ::T, Gᵢ::Matrix{T}, k::Int) where T\n",
    "    w[k] = Gᵢ[k, k]\n",
    "    yₖ = dot(w, r)\n",
    "    sₖ = sign(yₖ)\n",
    "    rₖ = r - sₖ * H[:, k]\n",
    "    Gᵢ = ((H)ᵀ * H + σ^2 * I)⁻¹ * (H)ᵀ\n",
    "    k = argmin([norm(Gᵢ[:, j])^2 for j in 1:size(H, 2)])\n",
    "    return w, yₖ, sₖ, rₖ, Gᵢ, k\n",
    "end"
   ]
  },
  {
   "cell_type": "code",
   "execution_count": 6,
   "id": "81a8ca8d-0c80-402d-ba02-949a0c7aeb40",
   "metadata": {},
   "outputs": [
    {
     "data": {
      "text/plain": [
       "run_algorithm (generic function with 1 method)"
      ]
     },
     "execution_count": 6,
     "metadata": {},
     "output_type": "execute_result"
    }
   ],
   "source": [
    "function run_algorithm(r::Vector{T}, H::Matrix{T}, σ::T, tolerance::T) where T\n",
    "    i, rᵢ, Gᵢ, k = initialize(r, H, σ)\n",
    "    converged = false\n",
    "    # while !converged and i < 5\n",
    "    while i < 5\n",
    "        w, yₖ, sₖ = zeros(T, size(H, 2)), zero(T), zero(T)\n",
    "        rₖ = copy(rᵢ)\n",
    "        w, yₖ, sₖ, rₖ, Gᵢ, k = recursive_step!(w, yₖ, sₖ, rₖ, H, σ, Gᵢ, k)\n",
    "        # Check for convergence\n",
    "        if norm(rₖ - rᵢ) < tolerance\n",
    "            converged = true\n",
    "        end\n",
    "        rᵢ = copy(rₖ)\n",
    "        i += 1\n",
    "    end\n",
    "    return rᵢ\n",
    "end"
   ]
  },
  {
   "cell_type": "code",
   "execution_count": 7,
   "id": "63305c94-2e6f-4439-8b35-5401978f52b9",
   "metadata": {},
   "outputs": [],
   "source": [
    "# Example usage:\n",
    "r = randn(10) # Example random vector\n",
    "H = randn(10, 10) # Example random matrix\n",
    "σ = 0.1 # Example value for sigma\n",
    "tolerance = 1e-6 # Example tolerance for convergence\n",
    "\n",
    "result = run_algorithm(r, H, σ, tolerance);\n"
   ]
  },
  {
   "cell_type": "markdown",
   "id": "935b4edf-54d0-49af-9daa-3f59da95102f",
   "metadata": {},
   "source": [
    "initialize:\n",
    "\n",
    "$i \\gets 1$\n",
    "\n",
    "$r_1 = r$\n",
    "\n",
    "$\\mathit{G}_1 = (\\mathit{H}^H \\mathit{H} + \\sigma^2 \\mathit{I}_{N_t})^{-1} \\mathit{H}^H$\n",
    "\n",
    "$ k_1 = {\\text{arg min}} \\; \\left\\| \\left( \\mathbf{G}_1 \\right)_j \\right\\|^2 $\n",
    "\n",
    "Recursive:\n",
    "\n",
    "$w_k = (\\mathbf{G}_i)_{ki}$\n",
    "\n",
    "$y_k = w_k^T \\times r_i$\n",
    "\n",
    "$\\hat{s}_k = sign(y_k)$\n",
    "\n",
    "$r_{i + 1} = r_i - \\hat{s}_k (\\mathbf{H})_{ki}$\n",
    "\n",
    "$\\mathit{G}_{i + 1} = ((\\mathit{H}_i^H \\mathit{H}_i) + \\sigma^2 \\mathit{I}_{N_t})^{-1} \\mathit{H}_i^H$\n",
    "\n",
    "$ k_{i + 1} = {\\text{arg min}} \\; \\left\\| \\left( \\mathbf{G}_{i+1} \\right)_j \\right\\|^2 $\n",
    "\n",
    "$i \\gets i + 1$"
   ]
  },
  {
   "cell_type": "markdown",
   "id": "6ad8e95d-bf81-441c-8e65-973f47e6a703",
   "metadata": {},
   "source": [
    "The algorithm described in your query is an iterative process that appears to be a type of Successive Interference Cancellation (SIC) algorithm, particularly used in signal processing contexts such as communications. The details and variables suggest its application in a Multiple Input Multiple Output (MIMO) system, typically found in modern wireless communication technologies. Here's an explanation of each step and its general purpose:\n",
    "\n",
    "### Initialization\n",
    "\n",
    "1. **Index Initialization**:\n",
    "   - $i \\gets 1$: Initialize the iteration counter.\n",
    "\n",
    "2. **Initial Residual**:\n",
    "   - $r_1 = r$: Set the initial residual vector equal to $ r $, which could be the received signal vector in a communication system.\n",
    "\n",
    "3. **Initial Filter Matrix**:\n",
    "   - $\\mathit{G}_1 = (\\mathit{H}^H \\mathit{H} + \\sigma^2 \\mathit{I}_{N_t})^{-1} \\mathit{H}^H$: Calculate the initial filter matrix, where $ H $ represents the channel matrix, $ \\sigma^2 $ the noise variance, and $ \\mathit{I}_{N_t} $ the identity matrix of size equal to the number of transmit antennas $ N_t $. This formula suggests the use of a regularized inverse, typical in scenarios with noise or imperfect channel information.\n",
    "\n",
    "4. **Initial Column Selection**:\n",
    "   - $k_1 = {\\text{arg min}} \\; \\left\\| \\left( \\mathbf{G}_1 \\right)_j \\right\\|^2$: Identify the column of $ \\mathbf{G}_1 $ that has the minimum norm. This could be selecting the least interfering transmission path or the most reliable channel in the matrix for processing.\n",
    "\n",
    "### Recursive (Iterative Process)\n",
    "\n",
    "1. **Weight Calculation**:\n",
    "   - $w_k = (\\mathbf{G}_i)_{ki}$: Select the filter weights from the current filter matrix, which will be used to process the signal.\n",
    "\n",
    "2. **Signal Projection**:\n",
    "   - $y_k = w_k^T \\times r_i$: Project the residual onto the filter weights to estimate the transmitted signal.\n",
    "\n",
    "3. **Signal Decision**:\n",
    "   - $\\hat{s}_k = sign(y_k)$: Make a binary decision on the estimated signal based on its sign. This is typical in binary transmission schemes.\n",
    "\n",
    "4. **Residual Update**:\n",
    "   - $r_{i + 1} = r_i - \\hat{s}_k (\\mathbf{H})_{ki}$: Update the residual by removing the contribution of the currently estimated signal component, enhancing the accuracy of subsequent estimates.\n",
    "\n",
    "5. **Filter Matrix Update**:\n",
    "   - $\\mathit{G}_{i + 1} = ((\\mathit{H}_i^H \\mathit{H}_i) + \\sigma^2 \\mathit{I}_{N_t})^{-1} \\mathit{H}_i^H$: Update the filter matrix to reflect the change in the residual and potentially updated channel information.\n",
    "\n",
    "6. **Next Column Selection**:\n",
    "   - $k_{i + 1} = {\\text{arg min}} \\; \\left\\| \\left( \\mathbf{G}_{i+1} \\right)_j \\right\\|^2$: Again, select the next column based on the smallest norm.\n",
    "\n",
    "7. **Iteration Increment**:\n",
    "   - $i \\gets i + 1$: Increment the iteration counter.\n",
    "\n",
    "The algorithm iteratively refines the estimates of transmitted symbols ($\\hat{s}_k$) and progressively cancels out their effects from the received signal, aiming to reduce interference and enhance the detectability of remaining signals in each subsequent step. This is particularly useful in environments with high interference and multiple transmission paths, typical in MIMO systems."
   ]
  },
  {
   "cell_type": "markdown",
   "id": "5eaf4595-b9a4-4aca-9f28-460730076875",
   "metadata": {},
   "source": [
    "The algorithm you've described bears a strong resemblance to the **Vertical Bell Labs Layered Space-Time (V-BLAST)** algorithm, which is a specific type of spatial multiplexing technique used in MIMO systems. The V-BLAST algorithm is well-known for enhancing data throughput by exploiting the multiple antenna dimensions available at both the transmitter and receiver ends. The relation between your algorithm and V-BLAST lies primarily in the method of successive interference cancellation (SIC) that both employ. Here's how they relate:\n",
    "\n",
    "### V-BLAST Overview\n",
    "V-BLAST operates by transmitting different data streams simultaneously over multiple antennas. At the receiver, these signals are detected and decoded in layers. The key steps in the V-BLAST algorithm typically involve:\n",
    "\n",
    "1. **Detection of the Strongest Signal**: The receiver first detects the strongest signal from the received combination of signals based on some optimality criterion (often the signal-to-noise ratio, SNR).\n",
    "\n",
    "2. **Signal Decoding and Cancellation**: Once the strongest signal is decoded, it is re-encoded and subtracted from the received signal combination, thus cancelling its effect and reducing interference for the remaining signals.\n",
    "\n",
    "3. **Iterative Process**: This process is repeated for the next strongest signal until all signals are decoded.\n",
    "\n",
    "### Relation to Your Algorithm\n",
    "Your algorithm follows a similar SIC process:\n",
    "\n",
    "1. **Initialization with a Filter Matrix** ($\\mathit{G}_1$):\n",
    "   - This step is analogous to preparing an initial decoding strategy based on the channel characteristics and noise level, somewhat similar to determining initial detection priorities in V-BLAST.\n",
    "\n",
    "2. **Minimizing the Norm for Column Selection** ($k_i$):\n",
    "   - Selecting the transmission path or signal with the minimum norm could be seen as an analogue to choosing the \"strongest\" or most favorable signal path in V-BLAST, where strength might be inversely related to interference levels or directly related to clarity/cleanness of the channel.\n",
    "\n",
    "3. **Iterative Interference Cancellation**:\n",
    "   - Both algorithms employ a method where after each signal (or layer in the case of V-BLAST) is decoded, it is subtracted from the overall signal mixture, aiming to purify the signal for the subsequent decoding steps.\n",
    "\n",
    "4. **Recursive Update of Residual and Filter**:\n",
    "   - This ongoing adjustment reflects a dynamic approach to handling changing signal conditions, much like V-BLAST’s iterative detection and cancellation steps.\n",
    "\n",
    "### Key Differences\n",
    "While both algorithms utilize SIC and aim to optimize the detection of multiple transmitted signals in a MIMO setting, V-BLAST typically focuses more explicitly on the concept of layers (vertical layers, specifically, referring to the use of multiple antennas). Your algorithm, on the other hand, includes additional computational elements like the regularized inverse and norm minimization for column selection, which can be seen as a strategy to optimize the decoding process dynamically based on the current state of residuals and channel matrix.\n",
    "\n",
    "In summary, your algorithm extends the basic principles of V-BLAST by potentially incorporating more sophisticated signal processing and matrix manipulation techniques to adapt to varying channel conditions and signal interferences."
   ]
  },
  {
   "cell_type": "markdown",
   "id": "1da2e452-cfab-41c2-adaa-4911c6f3c130",
   "metadata": {},
   "source": [
    "In the context of signal processing and MIMO systems, the Linear Minimum Mean Square Error (LMMSE) estimation is a key concept used to optimally estimate the transmitted signals in the presence of noise and interference. It is designed to minimize the mean squared error between the estimated and the actual transmitted signals. The formula provided in your initial algorithm description already includes the calculation of an LMMSE estimator for the signal. Let's break it down step-by-step to clarify how it relates to LMMSE:\n",
    "\n",
    "### LMMSE Estimator Formula\n",
    "The general formula for an LMMSE estimator in a MIMO system, considering both the noise and interference, is given by:\n",
    "$ \\mathbf{G} = (\\mathbf{H}^H \\mathbf{H} + \\sigma^2 \\mathbf{I})^{-1} \\mathbf{H}^H $\n",
    "where:\n",
    "- $ \\mathbf{H} $ is the channel matrix,\n",
    "- $ \\sigma^2 $ represents the noise variance,\n",
    "- $ \\mathbf{I} $ is the identity matrix (size depends on the number of transmit antennas $ N_t $),\n",
    "- $ \\mathbf{H}^H $ is the conjugate transpose (Hermitian) of $ \\mathbf{H} $,\n",
    "- $ \\mathbf{G} $ is the LMMSE filter matrix.\n",
    "\n",
    "### Applying LMMSE in Your Algorithm\n",
    "In your provided algorithm, the initial step of computing the filter matrix $ \\mathit{G}_1 $ effectively represents the LMMSE estimation:\n",
    "$ \\mathit{G}_1 = (\\mathit{H}^H \\mathit{H} + \\sigma^2 \\mathit{I}_{N_t})^{-1} \\mathit{H}^H $\n",
    "This step aims to derive the optimal linear estimator that minimizes the mean square error between the estimated and actual transmitted signals. By doing so, it tries to find the best linear transform that can be used to decode the received signals considering the current state of the channel and the noise level.\n",
    "\n",
    "### Updating LMMSE Estimator\n",
    "As your algorithm progresses iteratively, the LMMSE filter matrix $ \\mathit{G}_i $ is recalculated:\n",
    "$ \\mathit{G}_{i+1} = ((\\mathit{H}_i^H \\mathit{H}_i) + \\sigma^2 \\mathit{I}_{N_t})^{-1} \\mathit{H}_i^H $\n",
    "This update reflects adjustments in the channel matrix or its understanding (here represented abstractly as $ \\mathit{H}_i $) and potentially adjusts for changes in the system or noise characteristics. It keeps the estimator aligned with the best possible decoding of the remaining signals after each cancellation step.\n",
    "\n",
    "### Summary\n",
    "In summary, your algorithm is structured around an iterative LMMSE estimation approach, where each step recalculates the LMMSE filter to adapt to the residual signal after subtracting the effects of the previously estimated and cancelled transmissions. This adaptive nature allows for progressively improving the signal estimates in the presence of noise and interference, characteristic of complex communication environments like those encountered in MIMO systems."
   ]
  },
  {
   "cell_type": "markdown",
   "id": "dfd6abc2-c50e-4009-9b6c-a241bdfd0898",
   "metadata": {},
   "source": [
    "### is the ICMF a Successive Interference Cancellation (SIC) algorithm?"
   ]
  },
  {
   "cell_type": "markdown",
   "id": "c01bbee8-08b1-46b6-9082-58e578f6583b",
   "metadata": {},
   "source": [
    "Yes, the Interference Cancelling Matched Filter (ICMF) can be considered a type of Successive Interference Cancellation (SIC) algorithm, especially in the context of signal processing in communication systems like MIMO (Multiple Input Multiple Output). ICMF specifically focuses on mitigating or cancelling interference between different signals to improve the detection and decoding of each individual signal in a sequence. Here’s a closer look at how it fits into the broader category of SIC algorithms:\n",
    "\n",
    "### Basic Concept of ICMF\n",
    "ICMF operates by first detecting the strongest signal (or the most easily decoded signal) based on some criterion, typically using a matched filter which is designed to maximize the signal-to-noise ratio (SNR) for each individual signal path. After detecting the strongest signal, ICMF then proceeds to:\n",
    "1. Remove or cancel the effect of this detected signal from the combined received signal.\n",
    "2. Recompute or adjust the detection strategy for the next strongest signal using the residual signal (i.e., the original signal minus the contributions from previously decoded signals).\n",
    "3. Repeat this process until all the signals have been detected and decoded.\n",
    "\n",
    "### Successive Interference Cancellation (SIC)\n",
    "SIC is a broader strategy used in various forms across different communication technologies, including but not limited to:\n",
    "- **V-BLAST in MIMO systems**: Where the strongest signal is decoded first, then subtracted from the received signal, and the process repeats for the next strongest signal.\n",
    "- **CDMA and other spread spectrum technologies**: Where signals overlapping in time and frequency are separated by exploiting code orthogonality and other properties.\n",
    "\n",
    "### Relation of ICMF to SIC\n",
    "ICMF is a specialized form of SIC designed to:\n",
    "- **Match the filtering process** to the specific characteristics of each signal, typically using the concept of a matched filter that is adapted to each signal’s unique properties.\n",
    "- **Iteratively cancel interference**: By removing the contributions of the strongest detected signals successively, which allows subsequent detections to be made with less interference, improving overall system performance.\n",
    "\n",
    "### Key Characteristics\n",
    "- **Matched Filtering**: ICMF utilizes matched filtering techniques that are tailored to each signal's characteristics, optimizing the detection and enhancing the SNR.\n",
    "- **Iterative Refinement**: Similar to other SIC techniques, ICMF uses an iterative approach to refine the signal estimates and reduce interference progressively.\n",
    "\n",
    "### Applications and Effectiveness\n",
    "- **Complex Communication Systems**: ICMF is particularly effective in environments where signals are closely spaced in frequency or time, such as in dense MIMO configurations or where spectrum usage is very high.\n",
    "- **Robustness against Interference**: The algorithm is highly effective in scenarios with significant co-channel interference, making it suitable for high-throughput wireless communication systems.\n",
    "\n",
    "Thus, ICMF represents a sophisticated application of SIC principles, tailored to environments where precision in filtering and robust interference cancellation are crucial for system performance. It incorporates the essence of SIC — successive decoding and interference removal — while enhancing it through matched filtering techniques adapted to each step of the cancellation process."
   ]
  },
  {
   "cell_type": "markdown",
   "id": "43824ab7-fcf1-44ad-98af-e2392bbca867",
   "metadata": {},
   "source": [
    "# References"
   ]
  },
  {
   "cell_type": "markdown",
   "id": "b8841e9b-c012-4fb6-bbbc-e5df2bec77c7",
   "metadata": {},
   "source": [
    "- [ ] [Bell Laboratories Layered Space-Time](https://en.wikipedia.org/wiki/Bell_Laboratories_Layered_Space-Time)"
   ]
  },
  {
   "cell_type": "code",
   "execution_count": null,
   "id": "afa9afb8-2f2d-4c39-bc44-731119d93114",
   "metadata": {},
   "outputs": [],
   "source": []
  }
 ],
 "metadata": {
  "kernelspec": {
   "display_name": "Julia 1.9.3",
   "language": "julia",
   "name": "julia-1.9"
  },
  "language_info": {
   "file_extension": ".jl",
   "mimetype": "application/julia",
   "name": "julia",
   "version": "1.10.2"
  }
 },
 "nbformat": 4,
 "nbformat_minor": 5
}
