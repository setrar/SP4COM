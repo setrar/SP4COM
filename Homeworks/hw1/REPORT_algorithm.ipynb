{
 "cells": [
  {
   "cell_type": "markdown",
   "id": "d4b479ae-d641-4627-9a47-28152ac975a2",
   "metadata": {},
   "source": [
    "In the initial step of the Least Mean Squares (LMS) adaptation process for the interference canceling filter, we need to define and compute several signals and variables. Let's present each of them:\n",
    "\n",
    "1. **Received Signal**: $ y[k] $ (Dimension: $ m \\times 1 $)\n",
    "2. **Transmitted Symbol Sequence**: $ a[k] $ (Dimension: $ m \\times 1 $)\n",
    "3. **Additive Noise Sequence**: $ v[k] $ (Dimension: $ m \\times 1 $)\n",
    "4. **Desired Response Signal**: $ d[k] $ (Dimension: $ 1 \\times 1 $)\n",
    "5. **Error Signal**: $ \\epsilon[k] $ (Dimension: $ 1 \\times 1 $)\n",
    "6. **Input Signal**: $ x[k] $ (Dimension: $ m \\times 1 $)\n",
    "7. **Interference Canceling Filter**: $ \\mathbf{f} $ (Dimension: $ 1 \\times m $)\n",
    "8. **Orthogonal Complement Filter**: $ \\mathbf{h}^{\\perp H} $ (Dimension: $ m \\times m $)\n",
    "9. **Received Power**: $ \\sigma_a^2 $\n",
    "10. **Covariance Matrix of Noise**: $ R_{\\mathbf{VV}} $\n",
    "\n",
    "Here's how we can describe each of these signals in the context of the initial step:\n",
    "\n",
    "1. **Received Signal**: $ y[k] $ is the received signal at time $ k $, containing $ m $ subchannels.\n",
    "2. **Transmitted Symbol Sequence**: $ a[k] $ is the transmitted symbol sequence at time $ k $, also containing $ m $ elements.\n",
    "3. **Additive Noise Sequence**: $ v[k] $ is the additive noise sequence at time $ k $, containing $ m $ elements.\n",
    "4. **Desired Response Signal**: $ d[k] $ is the desired response signal at time $ k $, which is the output of the spatial matched filter $ \\mathbf{y}_1[k] $.\n",
    "5. **Error Signal**: $ \\epsilon[k] $ is the error signal at time $ k $, representing the difference between the desired response signal $ d[k] $ and the estimated response obtained by filtering the input signal $ x[k] $ with the interference canceling filter $ \\mathbf{f} $.\n",
    "6. **Input Signal**: $ x[k] $ is the input signal at time $ k $, which is also the output $ \\mathbf{y}_2[k] $ of the orthogonal complement filter $ \\mathbf{h}^{\\perp H} $.\n",
    "7. **Interference Canceling Filter**: $ \\mathbf{f} $ is the interference canceling filter, represented as a row vector of length $ m $.\n",
    "8. **Orthogonal Complement Filter**: $ \\mathbf{h}^{\\perp H} $ is the orthogonal complement filter, which complements the interference canceling filter.\n",
    "9. **Received Power**: $ \\sigma_a^2 $ represents the transmitted power.\n",
    "10. **Covariance Matrix of Noise**: $ R_{\\mathbf{VV}} $ is the covariance matrix of the noise, which is spatially colored.\n",
    "\n",
    "These signals and variables are essential for understanding and implementing the LMS adaptation process for the interference canceling filter."
   ]
  },
  {
   "cell_type": "code",
   "execution_count": 1,
   "id": "14dbfc40-5c35-4c85-9b93-d3632c7632ad",
   "metadata": {},
   "outputs": [],
   "source": [
    "using FFTW\n",
    "using LinearAlgebra\n",
    "using Random\n",
    "using Plots\n",
    "using Statistics"
   ]
  },
  {
   "cell_type": "code",
   "execution_count": 2,
   "id": "bc63896f-bfa5-46d5-93f4-0e84f8d134d0",
   "metadata": {},
   "outputs": [
    {
     "data": {
      "text/plain": [
       "norm (generic function with 15 methods)"
      ]
     },
     "execution_count": 2,
     "metadata": {},
     "output_type": "execute_result"
    }
   ],
   "source": [
    "include(\"_support/operations.jl\")"
   ]
  },
  {
   "cell_type": "code",
   "execution_count": 3,
   "id": "08247c10-e34b-404e-9614-5d77babc1805",
   "metadata": {},
   "outputs": [],
   "source": [
    "abstract type AbstractSignal{T} end\n",
    "\n",
    "struct FilterParams{T} <: AbstractSignal{T}\n",
    "    h::Vector{T}   # Channel Vector\n",
    "    h₊ᴴ::Matrix{T} # Orthogonal complement filter h_perp_H\n",
    "    σ::T         # Sigma\n",
    "end"
   ]
  },
  {
   "cell_type": "code",
   "execution_count": null,
   "id": "58efa637-57c5-44c2-9db4-0dc08027463f",
   "metadata": {},
   "outputs": [],
   "source": [
    "# Define the dimension of the channel vector\n",
    "n = 10\n",
    "\n",
    "# Seed for reproducibility\n",
    "Random.seed!(123)\n",
    "\n",
    "# Generate a random complex channel vector\n",
    "h = randn(ComplexF64, n)\n",
    "\n",
    "# Generate a random vector for the orthogonal complement\n",
    "hꜜ = randn(ComplexF64, n)\n",
    "while hꜜ ⋅ h ≈ 0\n",
    "    hꜜ = randn(ComplexF64, n)\n",
    "end\n",
    "\n",
    "println(\"Channel vector h:\", h)\n",
    "println(\"Vector in the orthogonal complement:\", hꜜ)"
   ]
  },
  {
   "cell_type": "code",
   "execution_count": null,
   "id": "45ad76cc-2f36-4266-a2a2-b3daebd30353",
   "metadata": {},
   "outputs": [],
   "source": [
    "# Extract real and imaginary parts for plotting\n",
    "hᵣ  = real.(h)\n",
    "hᵢ  = imag.(h)\n",
    "hꜜᵣ = real.(hꜜ)\n",
    "hꜜᵢ = imag.(hꜜ);"
   ]
  },
  {
   "cell_type": "code",
   "execution_count": null,
   "id": "ca8118f9-d749-4e18-a1ba-d9e007029b02",
   "metadata": {},
   "outputs": [],
   "source": [
    "# Plot the vectors on the complex plane\n",
    "plot(hᵣ, hᵢ\n",
    "    , seriestype=:scatter\n",
    "    , label=\"Channel vector h\"\n",
    "    , xlabel=\"Real part\", ylabel=\"Imaginary part\"\n",
    ")\n",
    "plot!(hꜜᵣ, hꜜᵢ\n",
    "    , seriestype=:scatter\n",
    "    , label=\"Vector in orthogonal complement\"\n",
    ")"
   ]
  },
  {
   "cell_type": "code",
   "execution_count": null,
   "id": "059fcab2-b32d-4ed0-9b58-96498559a676",
   "metadata": {},
   "outputs": [],
   "source": [
    "j = √Complex(-1)"
   ]
  },
  {
   "cell_type": "code",
   "execution_count": null,
   "id": "5cf59be8-248c-472b-ad1a-4b48c3200391",
   "metadata": {},
   "outputs": [],
   "source": [
    "using LaTeXStrings"
   ]
  },
  {
   "cell_type": "code",
   "execution_count": null,
   "id": "d8b594ee-a295-4916-a45d-f0a255b349e1",
   "metadata": {},
   "outputs": [],
   "source": [
    "# Define Z coordinates based on the magnitudes of real and imaginary parts\n",
    "hₔ = abs.(hᵣ  + j*hᵢ)\n",
    "hꜜₔ = abs.(hꜜᵣ + j*hꜜᵢ)\n",
    "\n",
    "# Plot the vectors in 3D\n",
    "plot(hᵣ, hᵢ, hₔ\n",
    "    , seriestype=:scatter3d\n",
    "    , label=\"Channel vector h\", legend=:topright\n",
    "    , xlabel=L\"$\\scr{Re}$\", ylabel=L\"$\\scr{Im}$\", zlabel=\"Magnitude\"\n",
    ")\n",
    "plot!(hꜜᵣ, hꜜᵢ, hꜜₔ\n",
    "    , seriestype=:scatter3d\n",
    "    , label=\"Vector in orthogonal complement\"\n",
    ")"
   ]
  },
  {
   "cell_type": "code",
   "execution_count": null,
   "id": "00bc30d2-a42b-4a59-a2df-7afdcbe60ba2",
   "metadata": {},
   "outputs": [],
   "source": [
    "𝖤 = mean"
   ]
  },
  {
   "cell_type": "code",
   "execution_count": null,
   "id": "d8a73be1-a938-420f-bdf6-4b1cea083749",
   "metadata": {},
   "outputs": [],
   "source": [
    "v = randn(ComplexF64, 10) # Generate a signal\n",
    "\n",
    "# Compute autocorrelation matrix R\n",
    "# 𝑅ᵥᵥ = autocorrelation_matrix(x[1:N])\n",
    "N = length(v)\n",
    "𝑅ᵥᵥ = [i != j ? \n",
    "        𝖤( v[ 1 : N - |(i-j) ] .* v[ |(i-j) + 1 : N] ) : # |() is the abs operator \n",
    "        𝖤(v .* v) # 𝖤 is the mean operator - Expected Value\n",
    "            for i in 1:N, j in 1:N\n",
    "        ];"
   ]
  },
  {
   "cell_type": "code",
   "execution_count": null,
   "id": "9e861293-16f3-4824-b66d-4eb4f7195e41",
   "metadata": {},
   "outputs": [],
   "source": [
    "# LMMSE Filter f^o\n",
    "fᵒ = ((h)ᴴ * 𝑅ᵥᵥ * hꜜ) * ((hꜜ)ᴴ * 𝑅ᵥᵥ * hꜜ)⁻¹"
   ]
  },
  {
   "cell_type": "markdown",
   "id": "8d6753c1-49b8-4753-b3dd-3f76748e7e09",
   "metadata": {},
   "source": [
    "# References"
   ]
  },
  {
   "cell_type": "code",
   "execution_count": null,
   "id": "75034370-9a98-4685-ab95-61d4e61a057e",
   "metadata": {},
   "outputs": [],
   "source": [
    "# Real matrix\n",
    "A_real = [1 2; 3 4]\n",
    "\n",
    "# Hermitian transpose of a real matrix (equivalent to transpose)\n",
    "A_real_transpose = transpose(A_real)\n",
    "# or\n",
    "A_real_transpose = A_real'\n",
    "\n",
    "# Complex matrix\n",
    "A_complex = [1+2im 3+4im; 5+6im 7+8im]\n",
    "\n",
    "# Hermitian transpose of a complex matrix\n",
    "A_complex_herm_transpose = adjoint(A_complex)\n",
    "# or\n",
    "A_complex_herm_transpose = transpose(A_complex)"
   ]
  },
  {
   "cell_type": "code",
   "execution_count": null,
   "id": "04ead21c-a064-4a79-97a1-e2bcee6abbbc",
   "metadata": {},
   "outputs": [],
   "source": []
  }
 ],
 "metadata": {
  "kernelspec": {
   "display_name": "Julia 1.9.3",
   "language": "julia",
   "name": "julia-1.9"
  },
  "language_info": {
   "file_extension": ".jl",
   "mimetype": "application/julia",
   "name": "julia",
   "version": "1.10.2"
  }
 },
 "nbformat": 4,
 "nbformat_minor": 5
}
