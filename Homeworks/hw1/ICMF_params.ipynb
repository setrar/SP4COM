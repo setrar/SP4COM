{
 "cells": [
  {
   "cell_type": "code",
   "execution_count": 1,
   "id": "8c268ffb-c16a-4b9c-994b-0ab6cda6dee5",
   "metadata": {},
   "outputs": [],
   "source": [
    "abstract type AbstractSignal{T} end\n",
    "\n",
    "struct SignalModel{T} <: AbstractSignal{T}\n",
    "    r::Vector{T} # Residual Vector\n",
    "    H::Matrix{T} # Channel Matrix\n",
    "    σ::T         # Sigma\n",
    "end\n",
    "\n",
    "struct SignalWithParams{T} <: AbstractSignal{T}\n",
    "    model::SignalModel{T}\n",
    "    w::Vector{T}\n",
    "    y::T\n",
    "    s::T\n",
    "    Gᵢ::Matrix{T}\n",
    "    k::Int\n",
    "end"
   ]
  },
  {
   "cell_type": "code",
   "execution_count": 7,
   "id": "505adbc9-67e3-45fa-88d3-fa4ccc078ba7",
   "metadata": {},
   "outputs": [
    {
     "data": {
      "text/plain": [
       "SignalWithParams{Float64}(SignalModel{Float64}([0.5210239510624679, -1.2450095841709348, 0.8491498902202125, -1.0403978153941382, 1.1145822891458266, -1.7799856439441957, -0.10768886164084301, 0.3146785317157943, -0.25884208508363804, -0.5950135628895082], [1.0484224251580605 -0.281834296891692 … -1.7657988762111976 -0.04434511374100228; 0.5302499697990993 -0.9721769131705575 … 0.09812131685176985 -1.2820541781303583; … ; -1.3747805898476264 -0.5968637855753659 … -0.5322527665221017 -0.004000194699263342; -1.0664865141436508 -0.710294766307637 … -1.282097448011943 -0.3811557107900811], 0.1), [0.0, 0.0, 0.0, 0.0, 0.0, 0.0, 0.0, 0.0, 0.0, 0.0], 0.0, 0.0, [0.0 0.0 … 0.0 0.0; 0.0 0.0 … 0.0 0.0; … ; 0.0 0.0 … 0.0 0.0; 0.0 0.0 … 0.0 0.0], 1)"
      ]
     },
     "execution_count": 7,
     "metadata": {},
     "output_type": "execute_result"
    }
   ],
   "source": [
    "\n",
    "# Example usage:\n",
    "r = randn(10) # Example random vector\n",
    "H = randn(10, 10) # Example random matrix\n",
    "σ = 0.1 # Example value for sigma\n",
    "\n",
    "# Create an instance of SignalWithParams\n",
    "w, y, s, Gᵢ, k = zeros(10), 0.0, 0.0, zeros(10, 10), 1\n",
    "signal_with_params_instance = SignalWithParams{Float64}(\n",
    "    SignalModel{Float64}(r, H, σ)\n",
    "    , w, y, s, Gᵢ, k\n",
    ")"
   ]
  },
  {
   "cell_type": "code",
   "execution_count": null,
   "id": "8ea0215f-f6e3-43a6-9811-fb85eb333f03",
   "metadata": {},
   "outputs": [],
   "source": []
  }
 ],
 "metadata": {
  "kernelspec": {
   "display_name": "Julia 1.9.3",
   "language": "julia",
   "name": "julia-1.9"
  },
  "language_info": {
   "file_extension": ".jl",
   "mimetype": "application/julia",
   "name": "julia",
   "version": "1.10.3"
  }
 },
 "nbformat": 4,
 "nbformat_minor": 5
}
