{
 "cells": [
  {
   "cell_type": "code",
   "execution_count": 1,
   "id": "57e1cfdf-d983-4526-8d97-2bb70245e35e",
   "metadata": {},
   "outputs": [],
   "source": [
    "using LinearAlgebra\n",
    "using FFTW"
   ]
  },
  {
   "cell_type": "code",
   "execution_count": 2,
   "id": "10af3b3a-93e5-41af-9dd1-6aef9aad44f4",
   "metadata": {},
   "outputs": [
    {
     "data": {
      "text/plain": [
       "norm (generic function with 8 methods)"
      ]
     },
     "execution_count": 2,
     "metadata": {},
     "output_type": "execute_result"
    }
   ],
   "source": [
    "include(\".support/operations.jl\")"
   ]
  },
  {
   "cell_type": "markdown",
   "id": "67d4311a-5091-4849-969c-04c34854f119",
   "metadata": {},
   "source": [
    "The matrix projection lemma, also known as the projection formula, is a key concept in linear algebra used to project vectors onto subspaces. Here's the formula when projecting a vector $ \\mathbf{y} $ onto the column space of a matrix $ \\mathbf{A} $:\n",
    "\n",
    "$\n",
    "\\text{Proj}_{\\mathbf{A}}(\\mathbf{y}) = \\mathbf{A}(\\mathbf{A}^T \\mathbf{A})^{-1} \\mathbf{A}^T \\mathbf{y}\n",
    "$\n",
    "\n",
    "This formula applies when $ \\mathbf{A}^T \\mathbf{A} $ is invertible (i.e., $ \\mathbf{A} $ has full column rank). The matrix $ \\mathbf{P} = \\mathbf{A}(\\mathbf{A}^T \\mathbf{A})^{-1} \\mathbf{A}^T $ is called the projection matrix, and it projects any vector in $ \\mathbb{R}^n $ onto the column space of $ \\mathbf{A} $. This result is fundamental in many areas, including least squares and statistical regression analysis."
   ]
  },
  {
   "cell_type": "code",
   "execution_count": 5,
   "id": "f3cd3c23-b0a0-45bf-8bfe-6742d0087bf8",
   "metadata": {},
   "outputs": [
    {
     "name": "stdout",
     "output_type": "stream",
     "text": [
      "The projection of y onto the column space of A is: [1.0, 2.0, 3.0]\n"
     ]
    }
   ],
   "source": [
    "# Example usage\n",
    "A = [1 0; 0 1; 1 1]  # Example matrix\n",
    "y = [1; 2; 3]         # Vector to project\n",
    "\n",
    "Pₐ(y) = A*((A)ᵀ*A)⁻¹*(A)ᵀ*y\n",
    "println(\"The projection of y onto the column space of A is: \", Pₐ(y))\n"
   ]
  },
  {
   "cell_type": "code",
   "execution_count": null,
   "id": "82c36a96-95fc-4cb6-bf8b-98da81eef6e8",
   "metadata": {},
   "outputs": [],
   "source": []
  }
 ],
 "metadata": {
  "kernelspec": {
   "display_name": "Julia 1.9.3",
   "language": "julia",
   "name": "julia-1.9"
  },
  "language_info": {
   "file_extension": ".jl",
   "mimetype": "application/julia",
   "name": "julia",
   "version": "1.10.2"
  }
 },
 "nbformat": 4,
 "nbformat_minor": 5
}
