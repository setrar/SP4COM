{
 "cells": [
  {
   "cell_type": "markdown",
   "id": "77296721-a912-4744-a169-8cf8e79c7f17",
   "metadata": {},
   "source": [
    "# &#x1F4DD; REPORT"
   ]
  },
  {
   "cell_type": "markdown",
   "id": "b8233d69-be14-4dd6-85cf-9777966fa064",
   "metadata": {},
   "source": [
    "# Homework &#x0031;&#xFE0F;&#x20E3; \n",
    "\n",
    "Homework policy: the homework is individual. Students are encouraged to discuss with fellow students to try to find the main structure of the solution for a problem, especially if they are totally stuck at the beginning of the problem. However, they should work out the details themselves and write down in their own words only what they understand themselves. For every answer you provide, try to give it in its simplest form, while answering correctly. Results that are available in the course notes can be used and referenced and do not need to be rederived.\n",
    "\n",
    "You can answer in French or in English. Do not forget to answer all subquestions. Word processing (Word, Latex,...) would be appreciated, or scanned readable handwritten notes."
   ]
  },
  {
   "cell_type": "markdown",
   "id": "c4ee1a8b-4ed3-4612-8ac7-53262b62978a",
   "metadata": {},
   "source": [
    "#### ___Spatial Processing: Linear Interference Cancellation___"
   ]
  },
  {
   "cell_type": "code",
   "execution_count": 1,
   "id": "05800b2f-3fb6-4958-9a66-c6335c3256ae",
   "metadata": {},
   "outputs": [
    {
     "data": {
      "image/png": "[encoded data removed]",
      "text/plain": []
     },
     "execution_count": 1,
     "metadata": {},
     "output_type": "execute_result"
    }
   ],
   "source": [
    "using Luxor\n",
    "\n",
    "function draw_simple_diagram()\n",
    "    # Start a drawing\n",
    "    Drawing(800, 250, \"simple_diagram.png\")\n",
    "    origin()  # Set the current point to the center of the drawing\n",
    "    \n",
    "    # Define the block position and size\n",
    "    block_width = 100\n",
    "    block_height = 50\n",
    "    block_position = Point(-100, 0)  # Position of the center of the block\n",
    "    \n",
    "    # Draw the block\n",
    "    newpath()\n",
    "    rect(block_position, block_width, block_height, :stroke)\n",
    "    \n",
    "    # Draw the arrow leading to the block\n",
    "    setline(2)\n",
    "    arrow(Point(-300, 0), block_position - Point(block_width/2, 0), linewidth=2)\n",
    "    \n",
    "    # Set the font size for text and draw the labels\n",
    "    fontsize(15)\n",
    "    text(\"a[k]\", Point(-350, 5))  # Adjust the position as needed\n",
    "    text(\"h\", block_position + Point(-10, 5))  # Adjust position for the label inside the block\n",
    "    \n",
    "    # Finish the drawing and preview it\n",
    "    finish()\n",
    "    preview()\n",
    "end\n",
    "\n",
    "draw_simple_diagram()\n"
   ]
  },
  {
   "cell_type": "code",
   "execution_count": null,
   "id": "a91d074f-9ce6-4d07-a1f6-8eadb61fe743",
   "metadata": {},
   "outputs": [],
   "source": []
  }
 ],
 "metadata": {
  "kernelspec": {
   "display_name": "Julia 1.9.3",
   "language": "julia",
   "name": "julia-1.9"
  },
  "language_info": {
   "file_extension": ".jl",
   "mimetype": "application/julia",
   "name": "julia",
   "version": "1.10.2"
  }
 },
 "nbformat": 4,
 "nbformat_minor": 5
}
