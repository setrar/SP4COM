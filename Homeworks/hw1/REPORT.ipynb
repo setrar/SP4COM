{
 "cells": [
  {
   "cell_type": "markdown",
   "id": "77296721-a912-4744-a169-8cf8e79c7f17",
   "metadata": {},
   "source": [
    "# &#x1F4DD; REPORT"
   ]
  },
  {
   "cell_type": "markdown",
   "id": "b8233d69-be14-4dd6-85cf-9777966fa064",
   "metadata": {},
   "source": [
    "# Homework &#x0031;&#xFE0F;&#x20E3; \n",
    "\n",
    "Homework policy: the homework is individual. Students are encouraged to discuss with fellow students to try to find the main structure of the solution for a problem, especially if they are totally stuck at the beginning of the problem. However, they should work out the details themselves and write down in their own words only what they understand themselves. For every answer you provide, try to give it in its simplest form, while answering correctly. Results that are available in the course notes can be used and referenced and do not need to be rederived.\n",
    "\n",
    "You can answer in French or in English. Do not forget to answer all subquestions. Word processing (Word, Latex,...) would be appreciated, or scanned readable handwritten notes."
   ]
  },
  {
   "cell_type": "markdown",
   "id": "c4ee1a8b-4ed3-4612-8ac7-53262b62978a",
   "metadata": {},
   "source": [
    "#### ___Spatial Processing: Linear Interference Cancellation___"
   ]
  },
  {
   "cell_type": "markdown",
   "id": "dd7e9426-5532-4605-abe9-0dbd74d885f7",
   "metadata": {},
   "source": [
    "### **&#x2488;** Adaptation of the Spatial ICMF via LMS"
   ]
  },
  {
   "cell_type": "markdown",
   "id": "5aa06fad-a6b5-4287-82cf-af4fbc1a81c8",
   "metadata": {},
   "source": [
    "<img src=images/ICMF_via_LMS.png width='' height='' > </img>"
   ]
  },
  {
   "cell_type": "markdown",
   "id": "5c408472-99f7-4ab4-b4d0-2a6af597e222",
   "metadata": {},
   "source": [
    "Consider adaptation of the spatial Interference Canceling Matched Filter (ICMF) depicted in the figure above. The received signal $y[k]$ contains m subchannels and the interference canceling filter $\\mathbf{f}$ is represented as a row vector. For a generic value of $\\mathbf{f}$, we get the error signal \n",
    "$$\n",
    "\\epsilon[k](\\mathbf{f}) = d[k]− \\mathbf{f} \\; \\mathbf{x}[k] . \\qquad (1)\n",
    "$$\n",
    "\n",
    "For the adaptation of $\\mathbf{f}$, the error signal is $\\epsilon[k]$ which also provides an estimate of the transmitted symbol sequence $a[k]$ (up to a scale factor $\\|\\mathbf{h}\\|^2$), the desired response signal is $d[k]$, which is the spatial matched filter output $y_1[k]$, and the input signal is $x[k]$, which is also the output $y_2[k]$ of the orthogonal complement filter $\\mathbf{h}^{\\perp H}$. The transmitted symbol sequence $a[k]$ and the additive noise sequence $v[k]$ are both considered to be temporally white and mutually independent, whereas the noise is spatially colored with covariance matrix $R_\\mathbf{vv}$ (the noise could contain interference). The transmitted power is $\\sigma_a^2$. We assume in a first instance that $\\hat{\\mathbf{h}}[k] = \\mathbf{h}$ (and hence $\\hat{\\mathbf{h}}^\\perp[k] = \\mathbf{h}^\\perp$)."
   ]
  },
  {
   "cell_type": "markdown",
   "id": "195a07c8-493f-4581-a5a0-9ae15cb1816d",
   "metadata": {},
   "source": [
    "#### **&#x1F516;** **(&#x61;)** ___LMMSE design___"
   ]
  },
  {
   "cell_type": "markdown",
   "id": "86bc23a9-c019-42b3-a560-92b77157b68d",
   "metadata": {},
   "source": [
    "Express the LMMSE filter $\\mathbf{f}^o$, that minimizes $\\sigma_{\\epsilon}^2$, in terms of $\\mathbf{h}$, $\\mathbf{h}^{\\perp}$ and $R_\\mathbf{vv}$.\n",
    "Let $e[k] = \\epsilon[k](\\mathbf{f}^o)$ be the optimal error signal. Derive an expression for $e[k]$ in terms of the quantities in the figure.\n",
    "Introduce the matrix square root $R_{\\mathbf{vv}} = R_{\\mathbf{vv}}^{1/2}R_{\\mathbf{vv}}^{H/2}$ and the transformed quantities\n",
    "$\\mathbf{h}^{'} = R_{\\mathbf{vv}}^{H/2}\\mathbf{h}$. Note that if $R_{\\mathbf{vv}}$ is not a multiple of identity, then $h'$ and $h^{\\perp '}$ are no longer orthogonal. Also introduce $\\mathbf{v}^′[k] = R_{\\mathbf{vv}}^{−1/2}\\mathbf{v}[k]$ for which $R_{\\mathbf{v'v'}} = I_m$ . Find now a simplified expression for $e[k]$ and show that the corresponding MMSE is\n",
    "$$\n",
    "\\sigma_e^2 = \\sigma_a^2 \\| \\mathbf{h} \\|^4 + \\| \\mathit{P}_{\\mathbf{h}^{\\perp '}}^{\\perp} \\mathbf{h}' \\|^2 \\qquad (2)\n",
    "$$\n",
    "where $P_{\\mathbf{g}} = \\mathbf{g}(\\mathbf{g}^H \\mathbf{g})^{−1}\\mathbf{g}^H , P_{\\mathbf{g}}^{\\perp} = I − P_{\\mathbf{g}}$ are the projection matrices on the column space of $\\mathbf{g}$ and its orthogonal complement respectively. When $R_{\\mathbf{vv}} = \\sigma_v^2 I_m$, what does $\\| \\mathit{P}_{\\mathbf{h}^{\\perp '}}^{\\perp} \\mathbf{h}' \\|^2$ simplify to?"
   ]
  },
  {
   "cell_type": "code",
   "execution_count": null,
   "id": "a83dcdd0-54bb-4e3c-a79d-e8cf46556d23",
   "metadata": {},
   "outputs": [],
   "source": []
  }
 ],
 "metadata": {
  "kernelspec": {
   "display_name": "Julia 1.9.3",
   "language": "julia",
   "name": "julia-1.9"
  },
  "language_info": {
   "file_extension": ".jl",
   "mimetype": "application/julia",
   "name": "julia",
   "version": "1.10.2"
  }
 },
 "nbformat": 4,
 "nbformat_minor": 5
}
