{
 "cells": [
  {
   "cell_type": "markdown",
   "id": "26c0431a-4c2c-445b-b955-1ebf03ad9ffe",
   "metadata": {},
   "source": [
    "# TP: Spatial Linear Interference Cancellation"
   ]
  },
  {
   "cell_type": "markdown",
   "id": "91fac147-0bae-497c-9093-0275265553dc",
   "metadata": {},
   "source": [
    "#### ___Adaptation of the Spatial ICMF via___\n",
    "---"
   ]
  },
  {
   "cell_type": "markdown",
   "id": "ffc1806d-1f9c-4b23-a142-b6c86cbfc1b3",
   "metadata": {},
   "source": [
    "<img src=images/ICMF_via_LMS.png width='' height='' > </img>\n",
    "\n",
    "So consider the adaptation of the spatial Interference Canceling Matched Filter (ICMF) depicted in the figure above, which in the spatial case is also called Generalized Sidelobe Canceller (Lecture 1, slides 61-63; see also the following slides on multi-user receivers). The received signal $y[k]$ contains $m$ subchannels and the interference canceling (IC) filter $\\mathbf{f}$ is represented as a row vector. For a generic value of $\\mathbf{f}$, we get the error signal\n",
    "\n",
    "$$\n",
    "\\begin{equation}\n",
    "e[k](\\mathbf{f}) = d[k] - \\mathbf{f} \\mathbf{x}[k]\n",
    "\\end{equation}\n",
    "$$\n",
    "\n",
    "(the term ”epsilon” in Matlab is reserved for the precision of the Matlab implementation, hence do not use that for a variable name). For the adaptation of $\\mathbf{f}$, the error signal is $\\epsilon[k]$ which also provides an estimate of the transmitted symbol sequence $a[k]$ (up to a scale factor, which is $\\|\\mathbf{h}\\|^2$ when $\\mathbf{h}$ is known perfectly)), the desired response signal is $d[k]$, which is the spatial matched filter output $\\mathbf{y}_1[k]$, and the input signal is $\\mathbf{x}[k]$, which is also the output $\\mathbf{y}_2[k]$ of the orthogonal complement filter $\\mathbf{h}^{\\perp H}$.\n",
    "\n",
    "We shall consider the following signal scenario. The signal of interest is a QPSK signal, $a[k] = \\frac{\\sigma_a}{\\sqrt(2)} (\\pm 1 \\pm j)$ of which the real and imaginary parts are generated as pseudorandom binary sequences. We shall use $\\sigma_a$ to represent the propagation attenuation also. This signal gets received by a uniform linear array (ULA) so that $\\mathbf{h} = \\mathbf{a}(\\theta)$ where the ULA response is of the form\n",
    "\n",
    "$$\n",
    "\\begin{equation}\n",
    "\\mathbf{a}(\\theta) = \\begin{bmatrix}\n",
    "       1 \\\\\n",
    "       e^{j2\\pi \\frac{d}{\\lambda} \\sin(\\theta)} \\\\[0.3em]\n",
    "       \\vdots \\\\\n",
    "       e^{j(m-1)2\\pi \\frac{d}{\\lambda} \\sin(\\theta)} \\\\[0.3em]\n",
    "     \\end{bmatrix}\n",
    "\\end{equation}\n",
    "$$\n",
    "\n",
    "where $\\theta$ is the angle between the direction of arrival (DOA) and the normal to the ULA, $d$ is the spacing between the antennas and $\\lambda$ is the wavelength. We shall take the classical choice $d = \\frac{\\lambda}{2}$ and we consider an array with $m = 4$ antennas.\n",
    "\n",
    "The spatially colored noise consists of an interferer plus spatiotemporally white noise.\n",
    "The interferer is also a digital communications signal with similar format as the signal of\n",
    "interest. So for the interferer, a QPSK signal $b[k] = \\frac{\\sigma_b}{\\sqrt(2)} (\\pm 1 \\pm j)$, independent from $a[k]$ passes through the channel $\\mathbf{g} = e^{j\\frac{\\pi}{4}}\\mathbf{a}(\\phi)$ where $\\phi$ is the DOA of the interferer, and $e^{j\\frac{\\pi}{4}}$ is a phase shift due to propagation. So the total received signal is of the form\n",
    "\n",
    "$$\n",
    "\\begin{equation}\n",
    "\\mathbf{y}[k]= \\mathbf{h} a[k]+ \\mathbf{g}b[k]+ \\mathbf{u}[k] = \\mathbf{a}(\\theta) a[k] + \\mathbf{a}(\\phi) e^{j\\frac{\\pi}{4}} b[k]+ \\mathbf{u}[k]\n",
    "\\end{equation}\n",
    "$$\n",
    "\n",
    "where $\\mathbf{u}[k]$ is the spatiotemporally white circular complex Gaussian noise with spectrum $\\mathrm{S}_{\\mathbf{uu}}(z) = \\sigma_u^2 I_m$ (the real and imaginary parts of the components of the vector $\\mathbf{u}[k]$ are independent white real Gaussian noises with zero mean and variance $\\frac{\\sigma_u^2}{2}$ ).\n",
    "\n",
    "To simplify the scenario, we shall consider that the channels are constant during the\n",
    "observation period. In the simulations, we can take $\\sigma_a^2 = 1$. We can then determine $\\sigma_b^2$ from Signal-to-Interference Ratio $SIR = 10 \\log_{10} \\frac{\\sigma_a^2}{\\sigma_b^2}$ (dB) and $\\sigma_u^2$ from the (per antenna) Signal-to-Noise Ratio $SNR = 10 \\log_{10} \\frac{\\sigma_a^2}{\\sigma_u^2}$ (dB).\n",
    "\n",
    "For the Interference Canceler (IC), even though for the given $\\mathbf{h}$ all elements are of equal constant magnitude, which makes the choice for $\\mathbf{h}^\\perp$ less critical, we shall make the simple choice\n",
    "\n",
    "$$\n",
    "\\begin{equation}\n",
    "\\mathbf{h}^{\\perp H} = P_{\\mathbf{h}}^{\\perp H} = P_{\\mathbf{h}}^{\\perp} = I_m - \\frac{\\mathbf{h} \\; \\mathbf{h}^H}{\\mathbf{h}^H\\mathbf{h}} = I_m - \\frac{1}{m} \\mathbf{h} \\; \\mathbf{h}^H\n",
    "\\end{equation}\n",
    "$$\n",
    "\n",
    "where we exploited the fact that in this case $\\|\\mathbf{h}\\|^2 = m$. With this choice of $\\mathbf{h}^\\perp$, the signal $\\mathbf{y}_2[k]$ has a singular covariance matrix (due to the singularity of $P_{\\mathbf{h}}^\\perp$). This singularity may complicate some theoretical calculations, and affects the behavior of the LMS algorithm for the adaptation of $\\mathbf{f}$ (which, like $\\mathbf{y}_2[k]$, now has $m$ components, instead of $m−1$) in the long run. Nevertheless, the choice $\\mathbf{h}^\\perp = P_{\\mathbf{h}}^\\perp$ allows to treat all directions orthogonal to $\\mathbf{h}$ in a balanced fashion. One issue is that the component of $\\mathbf{\\tilde{f}}[k]$ in the direction of $\\mathbf{h}^H$ does not converge, it just remains constant: $\\mathbf{\\tilde{f}}[k]\\mathbf{h} = \\mathbf{\\tilde{f}}[0]\\mathbf{h}$. However, this is not a big problem, since the filter error $\\mathbf{\\tilde{f}}$ filters the signal $\\mathbf{x}[k]$, which by construction has no component in the direction of $\\mathbf{h}$. So the component of the error $\\mathbf{\\tilde{f}}$ in the direction of $\\mathbf{h}^H$ does not lead to any error in the output $\\mathbf{\\tilde{f}}\\mathbf{x}[k]$. Due to roundoff errors however, the component of the error $\\mathbf{\\tilde{f}}$ in the direction of $\\mathbf{h}^H$ may actually drift away instead of stay constant. This problem gets avoided in practice if $\\mathbf{h}$ varies in time and eventually occupies all directions.\n",
    "\n",
    "Note that it may be an interesting exercise to compute the LMMSE filter $\\mathbf{f}$ and associated MMSE for the particular scenario of $R_{\\mathbf{vv}}$ appearing here (see HW1 also).\n",
    "\n",
    "(N)LMS: (Normalized) Least Mean Square algorithm for adaptive filtering, a stochastic gradient algorithm with constant stepsize."
   ]
  },
  {
   "cell_type": "markdown",
   "id": "64656b7a-3754-4fa1-b3fd-92ce60e4d480",
   "metadata": {},
   "source": [
    "### **Part O:** ***Signal Generation***\n",
    "\n",
    "Though for actual simulations, it would be faster to integrate the signal generation and the LMS adaptation(s) in one loop, for pedagogical reasons we shall consider the signal generation separately first."
   ]
  },
  {
   "cell_type": "markdown",
   "id": "d9fd866d-c304-4dae-8fcd-187a22646214",
   "metadata": {},
   "source": [
    "#### **&#x1F516;** **(&#x61;)** ___Signal Generating Function___\n",
    "\n",
    "---\n",
    "\n",
    "Write a Matlab function\n",
    "\n",
    "```matlab\n",
    "[y, a, h] = signalgen(m, M, theta, phi, SIR, SNR)\n",
    "```\n",
    "\n",
    "that will generate, as a function of the parameters indicated ($\\sigma_a^2 = 1$), $a \\, m × M$ matrix $y$ of $M$ vector samples $y[k]$ of the form in (3), $a \\, 1 × M$ vector $a$ of $M$ samples $a[k]$, and the $m × 1$ vector $h =\\mathbf{h}$. Provide the Matlab code `signalgen.m` in your report."
   ]
  },
  {
   "cell_type": "code",
   "execution_count": null,
   "id": "e7073ce8-f476-493f-b751-b8d375fb78e3",
   "metadata": {},
   "outputs": [],
   "source": []
  },
  {
   "cell_type": "markdown",
   "id": "6eba4b8a-4b15-4b2e-9f8d-7143e80fc10c",
   "metadata": {},
   "source": [
    "In the following simulations, we shall take $SNR = 30 dB$ and we shall consider ***three*** SIR scenarios: $SIR = −5dB, 10dB, 100dB$ (dominating interferer, weak interferer, no interferer). For the angular scenario we take $\\theta = 2\\pi \\frac{20^o}{360^o}$ and $\\phi = 2\\pi \\frac{25^o}{360^o}$ (relatively closely spaced interferer!).\n",
    "\n",
    "### **Part I:** ***IC in Known Channel Case***\n",
    "\n",
    "We assume in this first part that $\\mathbf{\\hat{h}}[k] = \\mathbf{h}$ is available (and hence $\\mathbf{\\hat{h}}^\\perp[k] = \\mathbf{h}^\\perp$)"
   ]
  },
  {
   "cell_type": "markdown",
   "id": "43db776e-a9e8-4e65-878a-fffd3be10477",
   "metadata": {},
   "source": [
    "#### **&#x1F516;** **(&#x62;)** ___Matched Filter (MF) Output___\n",
    "\n",
    "---\n",
    "\n",
    "In a first instance we shall consider the simple unbiased Matched Filter output $\\hat{a}[k] = \\frac{1}{\\|h\\|^2} \\mathbf{h}^H \\mathbf{y}[k]$. The output SNR is determined as $SNR_{\\text{MF}} = \\frac{\\sigma_a^2}{\\sigma_{\\widehat{a}}^2} = \\frac{1}{\\sigma_{\\widehat{a}}^2}$ where $\\sigma_{\\widehat{a}}^2$ gets estimated as $\\sigma_{\\widehat{a}}^2 = \\frac{1}{M} \\displaystyle\\sum_{k=1}^M |\\tilde{a}[k]|^2$ with $\\tilde{a}[k] = a[k] − \\widehat{a}[k]$.\n",
    "\n",
    "***Run your routine `signalgen.m` to generate $M = 10000$ samples of $y[k]$. Make an output constellation plot and compute the output SNR.***\n",
    "\n",
    "The output constellation plot is a plot of $(x,y) = (\\mathfrak{R} \\, \\widehat{a}[k],\\mathfrak{I} \\, \\widehat{a}[k])$, the in-phase and in- quadrature components, in which the $M$ points get superimposed. If the reception is clear, you should be able to see the transmitted QPSK constellation for $a[k]$ clearly (with some noise clouds around each QPSK point). Note that the routine `signalgen.m` provides $h$ so you can compute the unbiased MF, and the transmitted symbols $a[k]$ so you can compute the error signal $\\tilde{a}[k]$"
   ]
  },
  {
   "cell_type": "markdown",
   "id": "2da0854c-1e94-418b-a084-70efcde1c752",
   "metadata": {},
   "source": [
    "#### **&#x1F516;** **(&#x63;)** ___NLMS ICMF Adaptation___\n",
    "\n",
    "___\n",
    "\n",
    "Consider now the ICMF in the figure with the MF $\\mathbf{h}^H$ in the top branch replaced by an unbiased MF $\\frac{1}{\\|\\mathbf{h}\\|^2}\\mathbf{h}^H$, and the blocking filter taken as $\\mathbf{h}^{\\perp H} = P_{\\mathbf{h}}^\\perp$. We shall be running the Normalized LMS (NLMS) algorithm to adapt the IC filter $\\mathbf{f}$\n",
    "\n",
    "$$\n",
    "\\begin{align}\n",
    "\\mathbf{\\widehat{a}}[k] &= e[k] = d[k] - \\mathbf{f}[k - 1] \\, \\mathbf{x}[k] \\nonumber \\\\\n",
    "& \\quad \\, \\mathbf{f}[k] = \\mathbf{f}[k - 1] + \\frac{\\bar{\\mu}}{\\|\\mathbf{x}[k]\\|^2} e[k] \\, \\mathbf{x}^H[k]\n",
    "\\end{align}\n",
    "$$"
   ]
  },
  {
   "cell_type": "code",
   "execution_count": null,
   "id": "4c74e1ab-90fc-4113-8d6d-4674befaacf2",
   "metadata": {},
   "outputs": [],
   "source": []
  },
  {
   "cell_type": "markdown",
   "id": "133a3251-55cd-4d26-947f-7bb1171c11c7",
   "metadata": {},
   "source": [
    "#### **&#x1F516;** **(&#x64;)** ___ICMF with Signal Compensated NLMS Adaptation___\n",
    "\n",
    "---\n",
    "\n"
   ]
  },
  {
   "cell_type": "code",
   "execution_count": null,
   "id": "f0a775c1-696a-4572-bf15-2652514f036a",
   "metadata": {},
   "outputs": [],
   "source": []
  },
  {
   "cell_type": "markdown",
   "id": "b61aa023-92e3-4ea3-bf4a-2568efcd4e16",
   "metadata": {},
   "source": [
    "#### **&#x1F516;** **(&#x65;)** ___ICMF with DD Signal Compensated NLMS Adaptation___\n",
    "\n",
    "---\n",
    "\n",
    "The signal compensation considered above is not realistic since the transmitted sequence $a[k]$ needs to be known. The signal compensation considered above is not realistic since the transmitted sequence $a[k]$ needs to be known. Consider now a more realistic Decision Directed (DD) version in which $a[k]$ gets replaced by hard decisions $\\hat{\\hat{a}}[k] = sign(\\mathfrak{R} \\, \\widehat{a}[k],\\mathfrak{I} \\, \\widehat{a}[k])$ (real and imaginary parts) where $\\hat{a}[k] = d[k] − \\mathbf{f}[k−1] \\mathbf{x}[k]$ as usual. The signal compensation now becomes $\\mathbf{y}'[k] = \\mathbf{y}[k] − \\mathbf{h}\\hat{\\hat{a}}[k]$.\n",
    "\n",
    "***With this more realistic signal compensation, repeat the questions in $(d)$***. The following relations may be helpful:\n",
    "\n",
    "$$\n",
    "\n",
    "k−1 \\to k ICMF2 : ICMF1 :\n",
    "\\\\\n",
    "d[k]= 1 hH y[k], x[k]=y[k]−hd[k]\n",
    "\\\\\r",
    "∥h∥2\n",
    "\\\\\n",
    "ab[k] = d[k] − fb[k−1] x[k] , ab[k] = sign(R ab[k]) + j sign(I ab[k])\n",
    "b\n",
    "d′[k]=d[k]−ab[k], x′[k]=x[k] (6)\n",
    "′\n",
    "e[k] = d [k] − f[k−1] x[k]\n",
    "f[k] = f[k−1] + μ e[k] xH [k]\r",
    "∥x[k]∥2\n",
    "$$"
   ]
  },
  {
   "cell_type": "code",
   "execution_count": null,
   "id": "dc3b5244-57e9-405e-b984-e26d730de8a9",
   "metadata": {},
   "outputs": [],
   "source": []
  }
 ],
 "metadata": {
  "kernelspec": {
   "display_name": "Julia 1.9.3",
   "language": "julia",
   "name": "julia-1.9"
  },
  "language_info": {
   "file_extension": ".jl",
   "mimetype": "application/julia",
   "name": "julia",
   "version": "1.10.3"
  }
 },
 "nbformat": 4,
 "nbformat_minor": 5
}
