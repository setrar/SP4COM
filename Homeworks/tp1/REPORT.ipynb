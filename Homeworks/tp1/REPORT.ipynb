{
 "cells": [
  {
   "cell_type": "markdown",
   "id": "26c0431a-4c2c-445b-b955-1ebf03ad9ffe",
   "metadata": {},
   "source": [
    "# TP: Spatial Linear Interference Cancellation"
   ]
  },
  {
   "cell_type": "markdown",
   "id": "91fac147-0bae-497c-9093-0275265553dc",
   "metadata": {},
   "source": [
    "Adaptation of the Spatial ICMF via LMS"
   ]
  },
  {
   "cell_type": "markdown",
   "id": "ffc1806d-1f9c-4b23-a142-b6c86cbfc1b3",
   "metadata": {},
   "source": [
    "So consider the adaptation of the spatial Interference Canceling Matched Filter (ICMF) depicted in the figure above, which in the spatial case is also called Generalized Sidelobe Canceller (Lecture 1, slides 61-63; see also the following slides on multi-user receivers). The received signal $y[k]$ contains $m$ subchannels and the interference canceling (IC) filter $\\mathbf{f}$ is represented as a row vector. For a generic value of $\\mathbf{f}$, we get the error signal"
   ]
  },
  {
   "cell_type": "markdown",
   "id": "f5a579b9-1d08-479a-96c7-bae6f10df89b",
   "metadata": {},
   "source": [
    "$$e[k](\\mathbf{f}) = d[k] - \\mathbf{f} \\mathbf{x}[k]$$"
   ]
  },
  {
   "cell_type": "code",
   "execution_count": null,
   "id": "f22c3e44-1cc2-46d8-a876-35a9c87e9829",
   "metadata": {},
   "outputs": [],
   "source": []
  }
 ],
 "metadata": {
  "kernelspec": {
   "display_name": "Julia 1.9.3",
   "language": "julia",
   "name": "julia-1.9"
  },
  "language_info": {
   "file_extension": ".jl",
   "mimetype": "application/julia",
   "name": "julia",
   "version": "1.10.3"
  }
 },
 "nbformat": 4,
 "nbformat_minor": 5
}
