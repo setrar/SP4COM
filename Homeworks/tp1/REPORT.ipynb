{
 "cells": [
  {
   "cell_type": "markdown",
   "id": "26c0431a-4c2c-445b-b955-1ebf03ad9ffe",
   "metadata": {},
   "source": [
    "# TP: Spatial Linear Interference Cancellation"
   ]
  },
  {
   "cell_type": "markdown",
   "id": "91fac147-0bae-497c-9093-0275265553dc",
   "metadata": {},
   "source": [
    "Adaptation of the Spatial ICMF via LMS"
   ]
  },
  {
   "cell_type": "markdown",
   "id": "ffc1806d-1f9c-4b23-a142-b6c86cbfc1b3",
   "metadata": {},
   "source": [
    "So consider the adaptation of the spatial Interference Canceling Matched Filter (ICMF) depicted in the figure above, which in the spatial case is also called Generalized Sidelobe Canceller (Lecture 1, slides 61-63; see also the following slides on multi-user receivers). The received signal $y[k]$ contains $m$ subchannels and the interference canceling (IC) filter $\\mathbf{f}$ is represented as a row vector. For a generic value of $\\mathbf{f}$, we get the error signal"
   ]
  },
  {
   "cell_type": "markdown",
   "id": "f5a579b9-1d08-479a-96c7-bae6f10df89b",
   "metadata": {},
   "source": [
    "$$\n",
    "\\begin{equation}\n",
    "e[k](\\mathbf{f}) = d[k] - \\mathbf{f} \\mathbf{x}[k]\n",
    "\\end{equation}\n",
    "$$"
   ]
  },
  {
   "cell_type": "markdown",
   "id": "0bb3bceb-f146-4956-9f66-7f9dee8aefa4",
   "metadata": {},
   "source": [
    "(the term ”epsilon” in Matlab is reserved for the precision of the Matlab implementation, hence do not use that for a variable name). For the adaptation of $\\mathbf{f}$, the error signal is $\\epsilon[k]$ which also provides an estimate of the transmitted symbol sequence $a[k]$ (up to a scale factor, which is $\\|\\mathbf{h}\\|^2$ when $\\mathbf{h}$ is known perfectly)), the desired response signal is $d[k]$, which is the spatial matched filter output $\\mathbf{y}_1[k]$, and the input signal is $\\mathbf{x}[k]$, which is also the output $\\mathbf{y}_2[k]$ of the orthogonal complement filter $\\mathbf{h}^{\\perp H}$."
   ]
  },
  {
   "cell_type": "markdown",
   "id": "0a1cd9a9-c07a-415c-82ac-94973eecfc5e",
   "metadata": {},
   "source": [
    "We shall consider the following signal scenario. The signal of interest is a QPSK signal, $a[k] = \\frac{\\sigma_a}{\\sqrt(2)} (±1 ± j) of which the real and imaginary parts are generated as pseudorandom\n",
    "√2\n",
    "binary sequences. We shall use σa to represent the propagation attenuation also. This signal gets received by a uniform linear array (ULA) so that h = a(θ) where the ULA response is of the form"
   ]
  }
 ],
 "metadata": {
  "kernelspec": {
   "display_name": "Julia 1.9.3",
   "language": "julia",
   "name": "julia-1.9"
  },
  "language_info": {
   "file_extension": ".jl",
   "mimetype": "application/julia",
   "name": "julia",
   "version": "1.10.3"
  }
 },
 "nbformat": 4,
 "nbformat_minor": 5
}
