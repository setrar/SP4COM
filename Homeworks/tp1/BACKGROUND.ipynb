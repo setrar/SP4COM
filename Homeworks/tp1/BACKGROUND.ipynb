{
 "cells": [
  {
   "cell_type": "markdown",
   "id": "f388e660-fa8b-434f-a5ec-98036e6c404c",
   "metadata": {},
   "source": [
    "The adaptation of the spatial Interference Canceling Matched Filter (ICMF) as depicted in the figure, which in the spatial case is also called the Generalized Sidelobe Canceller (GSC), involves a few key steps and principles. Let's break down the process and components involved:\n",
    "\n",
    "### Components of the System\n",
    "1. **Received Signal $ \\mathbf{y}[k] $**:\n",
    "   - Contains $ m $ subchannels.\n",
    "   - Is a combination of the desired signal, interference, and noise.\n",
    "\n",
    "2. **Error Signal $ e[k](\\mathbf{f}) $**:\n",
    "   - Defined as $ e[k](\\mathbf{f}) = d[k] - \\mathbf{f} \\mathbf{x}[k] $.\n",
    "   - $ d[k] $: Desired response signal, which is the spatial matched filter output $ \\mathbf{y}_1[k] $.\n",
    "   - $ \\mathbf{x}[k] $: Input signal, which is the output $ \\mathbf{y}_2[k] $ of the orthogonal complement filter $ \\mathbf{h}^{\\perp H} $.\n",
    "\n",
    "3. **Signal of Interest**:\n",
    "   - QPSK signal $ a[k] = \\frac{\\sigma_a}{\\sqrt{2}} (\\pm 1 \\pm j) $.\n",
    "\n",
    "4. **ULA Response $ \\mathbf{a}(\\theta) $**:\n",
    "   - $ \\theta $: Angle of arrival.\n",
    "   - $ d $: Spacing between antennas, $ d = \\frac{\\lambda}{2} $.\n",
    "   - $ m $: Number of antennas (in this case, $ m = 4 $).\n",
    "\n",
    "5. **Interferer**:\n",
    "   - Also a QPSK signal $ b[k] = \\frac{\\sigma_b}{\\sqrt{2}} (\\pm 1 \\pm j) $.\n",
    "   - Channel response $ \\mathbf{g} = e^{j\\frac{\\pi}{4}}\\mathbf{a}(\\phi) $.\n",
    "\n",
    "6. **Noise $ \\mathbf{u}[k] $**:\n",
    "   - Spatiotemporally white circular complex Gaussian noise with spectrum $ \\mathrm{S}_{\\mathbf{uu}}(z) = \\sigma_u^2 I_m $.\n",
    "\n",
    "### System Equations\n",
    "The total received signal is given by:\n",
    "\n",
    "$ \\mathbf{y}[k]= \\mathbf{h} a[k]+ \\mathbf{g}b[k]+ \\mathbf{u}[k] = \\mathbf{a}(\\theta) a[k] + \\mathbf{a}(\\phi) e^{j\\frac{\\pi}{4}} b[k]+ \\mathbf{u}[k] $\n",
    "\n",
    "### Signal Processing\n",
    "1. **Orthogonal Complement Filter $ \\mathbf{h}^{\\perp H} $**:\n",
    "   - Defined as $ \\mathbf{h}^{\\perp H} = I_m - \\frac{1}{m} \\mathbf{h} \\; \\mathbf{h}^H $.\n",
    "\n",
    "### Adaptation using (N)LMS\n",
    "- **(N)LMS Algorithm**: A stochastic gradient algorithm with a constant stepsize used for adaptive filtering.\n",
    "- It aims to minimize the mean square error by adjusting the filter coefficients iteratively.\n",
    "\n",
    "### Simulation Parameters\n",
    "- **Signal-to-Interference Ratio (SIR)**: $ SIR = 10 \\log_{10} \\frac{\\sigma_a^2}{\\sigma_b^2} $ dB.\n",
    "- **Signal-to-Noise Ratio (SNR)**: $ SNR = 10 \\log_{10} \\frac{\\sigma_a^2}{\\sigma_u^2} $ dB.\n",
    "- **Propagation Attenuation**: Represented by $ \\sigma_a $.\n",
    "\n",
    "### Practical Considerations\n",
    "- **Roundoff Errors**: The component of the error in the direction of $ \\mathbf{h}^H $ may drift due to roundoff errors.\n",
    "- **Dynamic Channels**: In practice, $ \\mathbf{h} $ varies in time, occupying all directions, which mitigates the drift issue.\n",
    "\n",
    "### Example Exercise\n",
    "- **LMMSE Filter Computation**: Calculate the LMMSE filter $ \\mathbf{f} $ and associated MMSE for the given scenario, considering the covariance matrix $ R_{\\mathbf{vv}} $.\n",
    "\n",
    "This setup is essential for understanding and simulating the performance of adaptive filters in multi-user communication systems, specifically for interference cancellation and signal recovery."
   ]
  },
  {
   "cell_type": "code",
   "execution_count": null,
   "id": "6a673266-076c-4563-86f8-1106f4e13c91",
   "metadata": {},
   "outputs": [],
   "source": []
  }
 ],
 "metadata": {
  "kernelspec": {
   "display_name": "Julia 1.9.3",
   "language": "julia",
   "name": "julia-1.9"
  },
  "language_info": {
   "file_extension": ".jl",
   "mimetype": "application/julia",
   "name": "julia",
   "version": "1.10.3"
  }
 },
 "nbformat": 4,
 "nbformat_minor": 5
}
