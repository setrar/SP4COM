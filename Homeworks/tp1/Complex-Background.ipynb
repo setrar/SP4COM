{
 "cells": [
  {
   "cell_type": "code",
   "execution_count": 1,
   "id": "b85027fc-cd04-4e25-9a1d-574997bdee2a",
   "metadata": {},
   "outputs": [],
   "source": [
    "using FFTW, LinearAlgebra"
   ]
  },
  {
   "cell_type": "code",
   "execution_count": 2,
   "id": "5d572994-9d5d-4351-b16b-f8eb8980a764",
   "metadata": {},
   "outputs": [],
   "source": [
    "include(\"../modules/operations.jl\");"
   ]
  },
  {
   "cell_type": "code",
   "execution_count": 3,
   "id": "129b4e47-77b0-4425-8f05-b9d31e4d4166",
   "metadata": {},
   "outputs": [
    {
     "data": {
      "text/plain": [
       "0.0:5.555555555555555e-10:0.0"
      ]
     },
     "execution_count": 3,
     "metadata": {},
     "output_type": "execute_result"
    }
   ],
   "source": [
    "𝑓₍ = 1000\n",
    "𝑓ₛ = 1.8e9\n",
    "t₍ = 0:1:1000\n",
    "L = length(𝑓₍)\n",
    "t = 0:(1/𝑓ₛ):((L-1)/𝑓ₛ)"
   ]
  },
  {
   "cell_type": "code",
   "execution_count": 4,
   "id": "34da853e-0c8f-4444-b395-dfcf8febfebf",
   "metadata": {},
   "outputs": [
    {
     "name": "stdout",
     "output_type": "stream",
     "text": [
      "ℜ(exp.(j * (2π) * 𝑓₍ * 500)) = 1.0\n",
      "ℑ(exp.(j * (2π) * 𝑓₍ * 500)) = -2.231912181360871e-10\n"
     ]
    }
   ],
   "source": [
    "@show ℜ(exp.(j * 2π * 𝑓₍ * 500));\n",
    "@show ℑ(exp.(j * 2π * 𝑓₍ * 500));"
   ]
  },
  {
   "cell_type": "code",
   "execution_count": null,
   "id": "dbfeca45-9571-4365-83a6-a451933da72f",
   "metadata": {},
   "outputs": [],
   "source": []
  }
 ],
 "metadata": {
  "kernelspec": {
   "display_name": "Julia 1.9.3",
   "language": "julia",
   "name": "julia-1.9"
  },
  "language_info": {
   "file_extension": ".jl",
   "mimetype": "application/julia",
   "name": "julia",
   "version": "1.10.4"
  }
 },
 "nbformat": 4,
 "nbformat_minor": 5
}
