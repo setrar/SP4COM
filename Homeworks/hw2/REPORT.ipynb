{
 "cells": [
  {
   "cell_type": "markdown",
   "id": "25186455-8547-4376-bacb-092d7e768aa4",
   "metadata": {},
   "source": [
    "# &#x1F4DD; REPORT"
   ]
  },
  {
   "cell_type": "markdown",
   "id": "4abdfdc6-e358-4ec3-a957-8b8d0836a498",
   "metadata": {},
   "source": [
    "# Homework &#x0032;&#xFE0F;&#x20E3; \n",
    "\n",
    "Homework policy: the homework is individual. Students are encouraged to discuss with fellow students to try to find the main structure of the solution for a problem, especially if they are totally stuck at the beginning of the problem. However, they should work out the details themselves and write down in their own words only what they understand themselves. For every answer you provide, try to give it in its simplest form, while answering correctly. Results that are available in the course notes can be used and referenced and do not need to be rederived.\n",
    "\n",
    "You can answer in French or in English. Do not forget to answer all subquestions. Word processing (Word, Latex,...) would be appreciated, or scanned readable handwritten notes."
   ]
  },
  {
   "cell_type": "markdown",
   "id": "8080eaf5-3e6f-45fd-b4a1-200c3d3a5b68",
   "metadata": {},
   "source": [
    "#### ___Spatial Diversity and SpatioTemporal Equalization___\n",
    "---"
   ]
  },
  {
   "cell_type": "markdown",
   "id": "b81d212e-4f33-49e7-8387-fd65a007a5d5",
   "metadata": {},
   "source": [
    "### **&#x2488;** Negligible angular spread: the case of a separable spatiotemporal channel"
   ]
  },
  {
   "cell_type": "markdown",
   "id": "11115033-ec22-40a1-b7c3-534b985496d4",
   "metadata": {},
   "source": [
    "Consider the case of a separable spatiotemporal channel (spatial channel times temporal channel): $\\mathbf{H}(z) = \\mathbf{h}[0]\\mathit{H}_1(z)$ where $\\mathit{H}_1(z)$ is the transfer function of the first subchannel (first antenna) and assume $|\\mathbf{h}_i[0]| = 1$ , $i = 1, . . . , m$ (furthermore $\\mathbf{h}_1[0] = 1$). This separable case arises when all propagation paths arrive at the base station in the same direction. The noise is assumed to be white."
   ]
  },
  {
   "cell_type": "markdown",
   "id": "9b7b3ebd-72b1-45b6-b233-b04ba83052ac",
   "metadata": {},
   "source": [
    "###### **&#x1F516;** **(&#x61;)** ___Give the Matched Filter Bound MFB as a funtion of the number of antennas m and H1. How does the MFB vary with m?___\n",
    "\n",
    "---"
   ]
  },
  {
   "cell_type": "code",
   "execution_count": null,
   "id": "25727bad-6b02-43c5-aa08-d9797adb4c0a",
   "metadata": {},
   "outputs": [],
   "source": []
  },
  {
   "cell_type": "markdown",
   "id": "9e6df13c-9459-409e-80b1-612802a121ac",
   "metadata": {},
   "source": [
    "###### **&#x1F516;** **(&#x62;)** ___Give the Signal to Noise Ratio (SNR) at the output of a linear MMSE ZF equalizer, $SNR_{\\text{MMSEZF}}$, as a function of the number of antennas $m$ and $\\mathit{H}_1$. Compare $SNR_{\\text{MMSEZF}}$ with the MFB (equal or not?). How does $SNR_{\\text{MMSEZF}}$ vary with $m$?___\n",
    "\n",
    "---"
   ]
  },
  {
   "cell_type": "code",
   "execution_count": null,
   "id": "306ffda3-aeb7-471f-a52e-79d18e555aef",
   "metadata": {},
   "outputs": [],
   "source": []
  },
  {
   "cell_type": "markdown",
   "id": "2dbae3f9-8bfe-4ea4-8f30-11cce213ad66",
   "metadata": {},
   "source": [
    "###### **&#x1F516;** **(&#x63;)** ___Describe briefly the consequences of the separable model on the implementation of the ICMF receiver.___\n",
    "\n",
    "---"
   ]
  },
  {
   "cell_type": "code",
   "execution_count": null,
   "id": "762bb247-e675-4066-bb1e-efd889e1f2b6",
   "metadata": {},
   "outputs": [],
   "source": []
  },
  {
   "cell_type": "markdown",
   "id": "06826b03-f529-4ac7-bd39-205045292995",
   "metadata": {},
   "source": [
    "###### **&#x1F516;** **(&#x64;)** ___If the spatiotemporal channels of the interferers are also separable, how many interferers can be canceled in the ICMF?___\n",
    "\n",
    "---"
   ]
  },
  {
   "cell_type": "code",
   "execution_count": null,
   "id": "be156b01-fd5d-42a7-b7f3-9345f67e710f",
   "metadata": {},
   "outputs": [],
   "source": []
  },
  {
   "cell_type": "markdown",
   "id": "ba20a8f7-9883-40bb-8249-b6fad2093779",
   "metadata": {},
   "source": [
    "### **&#x2489;** Large angular spread: the case of a paraunitary spatiotemporal channel"
   ]
  },
  {
   "cell_type": "markdown",
   "id": "6dfa5d4f-4789-4484-b20b-82fc6049b0b8",
   "metadata": {},
   "source": [
    "Consider a spatiotemporal channel with transfer function $\\mathbf{H}(z) = \\sum_{i = 0}^{N - 1} \\mathbf{h}[i] z^{−i}$ , $N \\leq m$.\n",
    "Assume that the angular spread is so large that we end up with the following orthogonality\n",
    "conditions: $\\mathbf{h}^H[i]\\mathbf{h}[j] = 0$, $i \\neq j, i,j \\in \\{0,...,N−1\\}$."
   ]
  },
  {
   "cell_type": "markdown",
   "id": "ac1626e5-ec27-4ae4-95cb-6d82bb65677e",
   "metadata": {},
   "source": [
    "###### **&#x1F516;** **(&#x61;)** ___What are the consequences of these orthogonality conditions on $\\mathbf{H}^{\\dagger}(z)\\mathbf{H}(z)$?___\n",
    "\n",
    "---"
   ]
  },
  {
   "cell_type": "code",
   "execution_count": null,
   "id": "0ab3b6a9-a205-4f2f-a129-65cbea524634",
   "metadata": {},
   "outputs": [],
   "source": []
  },
  {
   "cell_type": "markdown",
   "id": "53ae36ae-b07e-4290-8f83-94a6c442c9a5",
   "metadata": {},
   "source": [
    "###### **&#x1F516;** **(&#x62;)** ___How does $\\|\\mathbf{H}(e^{j 2 \\pi f} )\\|$ vary with frequency $f$ in this case?___\n",
    "\n",
    "---"
   ]
  },
  {
   "cell_type": "code",
   "execution_count": null,
   "id": "d93e92bd-cca6-4d8f-89d1-5058c4e48755",
   "metadata": {},
   "outputs": [],
   "source": []
  },
  {
   "cell_type": "markdown",
   "id": "a30a2513-0e61-4393-b4cd-4fdb70140ee5",
   "metadata": {},
   "source": [
    "###### **&#x1F516;** **(&#x63;)** ___Give the MFB and the SNR at the output of a linear MMSE ZF equalizer, $SNR_{\\text{MMSEZF}}$, as a function of $\\mathbf{H}$, and compare the two.___\n",
    "\n",
    "---"
   ]
  },
  {
   "cell_type": "code",
   "execution_count": null,
   "id": "03271dce-aee5-4a50-9b0e-35a14f70d0f0",
   "metadata": {},
   "outputs": [],
   "source": []
  },
  {
   "cell_type": "markdown",
   "id": "1bf45307-40fc-436c-ae90-e969ac5a69db",
   "metadata": {},
   "source": [
    "###### **&#x1F516;** **(&#x64;)** ___Assuming that the spatiotemporal channel has the same energy $\\|\\mathbf{H}\\|^2$ in the separable and paraunitary cases, compare the MFB for the two cases ($MFB^{(1)}$ (separable) and $MFB^{(2)}$ (paraunitary)).___\n",
    "\n",
    "---"
   ]
  },
  {
   "cell_type": "code",
   "execution_count": null,
   "id": "7b6ee311-0f42-448c-a789-b69eefaefec4",
   "metadata": {},
   "outputs": [],
   "source": []
  },
  {
   "cell_type": "markdown",
   "id": "7d6ced03-544a-4e0b-8401-6c65d7ba892a",
   "metadata": {},
   "source": [
    "###### **&#x1F516;** **(&#x65;)** ___Under the same hypothesis of equal energy, make the same comparison between $SNR_{\\text{MMSEZF}}^{(1)}$ and $SNR_{\\text{MMSEZF}}^{(2)}$.___\n",
    "\n",
    "---"
   ]
  },
  {
   "cell_type": "code",
   "execution_count": null,
   "id": "81e37616-2d1e-41e5-a383-819f5d193e76",
   "metadata": {},
   "outputs": [],
   "source": []
  },
  {
   "cell_type": "markdown",
   "id": "066fb0a9-12bc-4dd8-b3cd-7aa5fae463d6",
   "metadata": {},
   "source": [
    "###### **&#x1F516;** **(&#x66;)** ___For the paraunitary case, assuming that the various subchannels have the same energy, compare the $MFB$, which we shall denote $MFB_{(m)}$, which corresponds to the case in which all $m$ subchannels are used, with the $MFB_{(1)}$ when only the first subchannel is used (what can you say about the ratio $MFB_{(m)}/MFB_{(1)}$?) .___\n",
    "\n",
    "---"
   ]
  },
  {
   "cell_type": "code",
   "execution_count": null,
   "id": "a02e2040-e13a-460a-a25d-9323140ce71f",
   "metadata": {},
   "outputs": [],
   "source": []
  },
  {
   "cell_type": "markdown",
   "id": "3d943928-dcad-43f3-a886-def6c9f01885",
   "metadata": {},
   "source": [
    "###### **&#x1F516;** **(&#x67;)** ___Same question for $SNR_{\\text{MMSEZF},(m)}/SNR_{\\text{MMSEZF},(1)}$.___\n",
    "\n",
    "---"
   ]
  },
  {
   "cell_type": "code",
   "execution_count": null,
   "id": "f2ae9906-5921-4ccf-9791-db2506168f35",
   "metadata": {},
   "outputs": [],
   "source": []
  }
 ],
 "metadata": {
  "kernelspec": {
   "display_name": "Julia 1.9.3",
   "language": "julia",
   "name": "julia-1.9"
  },
  "language_info": {
   "file_extension": ".jl",
   "mimetype": "application/julia",
   "name": "julia",
   "version": "1.10.3"
  }
 },
 "nbformat": 4,
 "nbformat_minor": 5
}
