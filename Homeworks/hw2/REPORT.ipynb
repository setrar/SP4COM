{
 "cells": [
  {
   "cell_type": "markdown",
   "id": "25186455-8547-4376-bacb-092d7e768aa4",
   "metadata": {},
   "source": [
    "# &#x1F4DD; REPORT"
   ]
  },
  {
   "cell_type": "markdown",
   "id": "4abdfdc6-e358-4ec3-a957-8b8d0836a498",
   "metadata": {},
   "source": [
    "# Homework &#x0032;&#xFE0F;&#x20E3; \n",
    "\n",
    "Homework policy: the homework is individual. Students are encouraged to discuss with fellow students to try to find the main structure of the solution for a problem, especially if they are totally stuck at the beginning of the problem. However, they should work out the details themselves and write down in their own words only what they understand themselves. For every answer you provide, try to give it in its simplest form, while answering correctly. Results that are available in the course notes can be used and referenced and do not need to be rederived.\n",
    "\n",
    "You can answer in French or in English. Do not forget to answer all subquestions. Word processing (Word, Latex,...) would be appreciated, or scanned readable handwritten notes."
   ]
  },
  {
   "cell_type": "markdown",
   "id": "8080eaf5-3e6f-45fd-b4a1-200c3d3a5b68",
   "metadata": {},
   "source": [
    "#### ___Spatial Diversity and SpatioTemporal Equalization___\n",
    "---"
   ]
  },
  {
   "cell_type": "markdown",
   "id": "b81d212e-4f33-49e7-8387-fd65a007a5d5",
   "metadata": {},
   "source": [
    "### **&#x2488;** Negligible angular spread: the case of a separable spatiotemporal channel"
   ]
  },
  {
   "cell_type": "markdown",
   "id": "11115033-ec22-40a1-b7c3-534b985496d4",
   "metadata": {},
   "source": [
    "Consider the case of a separable spatiotemporal channel (spatial channel times temporal channel): $\\mathbf{H}(z) = \\mathbf{h}[0]\\mathit{H}_1(z)$ where $\\mathit{H}_1(z)$ is the transfer function of the first subchannel (first antenna) and assume $|\\mathbf{h}_i[0]| = 1$ , $i = 1, . . . , m$ (furthermore $\\mathbf{h}_1[0] = 1$). This separable case arises when all propagation paths arrive at the base station in the same direction. The noise is assumed to be white."
   ]
  },
  {
   "cell_type": "code",
   "execution_count": null,
   "id": "b806ea74-0090-4488-8c9c-3601cfccd77d",
   "metadata": {},
   "outputs": [],
   "source": []
  }
 ],
 "metadata": {
  "kernelspec": {
   "display_name": "Julia 1.9.3",
   "language": "julia",
   "name": "julia-1.9"
  },
  "language_info": {
   "file_extension": ".jl",
   "mimetype": "application/julia",
   "name": "julia",
   "version": "1.10.3"
  }
 },
 "nbformat": 4,
 "nbformat_minor": 5
}
