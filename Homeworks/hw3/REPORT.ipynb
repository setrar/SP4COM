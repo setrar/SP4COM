{
 "cells": [
  {
   "cell_type": "markdown",
   "id": "d0142bb8-3ab9-4a02-a94c-e216c43ba4eb",
   "metadata": {},
   "source": [
    "# &#x1F4DD; REPORT"
   ]
  },
  {
   "cell_type": "markdown",
   "id": "3cf81a44-14dc-4dbe-934f-5777b939ae55",
   "metadata": {},
   "source": [
    "# Homework &#x0033;&#xFE0F;&#x20E3; \n",
    "\n",
    "Homework policy: the homework is individual. Students are encouraged to discuss with fellow students to try to find the main structure of the solution for a problem, especially if they are totally stuck at the beginning of the problem. However, they should work out the details themselves and write down in their own words only what they understand themselves. For every answer you provide, try to give it in its simplest form, while answering correctly. Results that are available in the course notes can be used and referenced and do not need to be rederived.\n",
    "\n",
    "You can answer in French or in English. Do not forget to answer all subquestions. Word processing (Word, Latex,...) would be appreciated, or scanned readable handwritten notes."
   ]
  },
  {
   "cell_type": "markdown",
   "id": "31b39b0f-5f8d-4f6b-bdec-cfcfe136ee89",
   "metadata": {},
   "source": [
    "#### ___Multi-User MISO Downlink___\n",
    "---"
   ]
  },
  {
   "cell_type": "markdown",
   "id": "16f8911f-f785-4df4-b313-5e01f803a6b7",
   "metadata": {},
   "source": [
    "### **&#x2488;** Reduced-Order Zero-Forcing Beamforming and its Average SINR"
   ]
  },
  {
   "cell_type": "markdown",
   "id": "e13a79bb-f571-46b3-a755-709a525d6de5",
   "metadata": {},
   "source": [
    "Consider a MISO Broadcast Channel, i.e. the downlink in a single cell system with a base station (BS) with $N$antennas and $K$ single antenna users. The received signal at user\n",
    "$k$ can be written as\n",
    "\n",
    "$$\n",
    "\\begin{equation}\n",
    "y_k = \\underbrace{ \\mathbf{h}_k^H \\mathbf{g}_k s_k }_{\\text{signal}}+ \\underbrace{ \\displaystyle\\sum_{i=1,\\neq k}^K \\mathbf{h}_k^H \\mathbf{g}_i s_i}_{\\text{interference}} + \\underbrace{ v_k }_{\\text{noise}}\n",
    "\\end{equation}\n",
    "$$\n",
    "\n",
    "where $s_i$ is the scalar zero mean white signal stream with variance $p_i$ intended for user $i$, which is transmitted with the $N × 1$ beamformer $\\mathbf{g}_i$, and received through the $1 × N$ MISO channel $\\mathbf{h}_k^H$ . The noise $v_k$ is white circularly complex Gaussian with variance $\\sigma_k^2$. All signal and noise terms are independent. Assume the beamformers to be normalized: $\\|\\mathbf{g}_i\\| = 1$. Let the channels be randomly distributed, namely circularly complex Gaussian with i.i.d. entries such that $\\mathbf{h}_k \\sim \\mathcal{CN}(0, \\frac{\\sigma_k}{N} \\mathbf{I}_N )$ where $\\sigma_k = \\mathrm{E}\\|\\mathbf{h}_k\\|^2$ represents the channel attenuation for user $k$."
   ]
  },
  {
   "cell_type": "markdown",
   "id": "bc3f5b1d-f36b-408a-9518-020b66b05d72",
   "metadata": {},
   "source": [
    "#### **&#x1F516;** **(&#x61;)** ___Show that, for given channel $\\mathbf{h}_k$, the Signal to Interference plus Noise Ratio (SINR) in $y_k$ is given by___\n",
    "\n",
    "---\n",
    "\n",
    "$$\n",
    "\\begin{equation}\n",
    "\\text{SINR}_k = \\frac{| \\mathbf{h}_k^H \\mathbf{g}_k |^2 p_k}{ \\sum_{i=1,\\neq k}^K | \\mathbf{h}_k^H \\mathbf{g}_i |^2 p_i + \\sigma_k^2} \n",
    "\\end{equation}\n",
    "$$\n",
    "\n",
    "Now, we see in class that optimal beamformers are of the MMSE type, which from the point of view of reception would be making a compromise between interference suppression and matched filtering to avoid noise amplification. To simplify the beamformer design, we shall consider a ”reduced-order” (RO) zero-forcing (ZF) design in which we only ZF to a subset of users. Indeed, considering the interference plus noise denominator in (2), it is important to ZF the interference to users for which the term $| \\mathbf{h}_k^H \\mathbf{g}_i |^2 p_i$ is large compared to $\\sigma_k^2$, and on the contrary, the interference term can be ignored if it is small compared to $\\sigma_k^2$. Let\n",
    "\n",
    "$$\n",
    "\\begin{equation}\n",
    "I_k = {i_{k,1},i_{k,2}, \\cdots ,i_{k,K_k}} \\subset I_0 \\{k\\} \\text{ , where } I_0 = \\{1,2,...,K\\},\n",
    "\\end{equation}\n",
    "$$\n",
    "\n",
    "be the subset of users that the beamformer $\\mathbf{g}_k$ for user $k$ zero-forces to. Let the size of this subset be $|I_k| = K_k$ where $0 \\leq K_k \\leq K − 1$. The collection of channels of the users being zero forced to appears in the $N × K_k$ matrix\n",
    "\n",
    "$$\n",
    "\\begin{equation}\n",
    "\\mathbf{H}_{I_k} = [\\mathbf{h}_{i_{k,1}} \\mathbf{h}_{i_{k,2}} \\cdots \\mathbf{h}_{i_{k,K_k}} ].\n",
    "\\end{equation}\n",
    "$$\n",
    "\n",
    "In the RO-ZF design, beamformer $\\mathbf{g_k^{ro}}$ must satisfy the constraints\n",
    "\n",
    "$$\n",
    "\\begin{equation}\n",
    "\\mathbf{H}_{I_k}^H \\mathbf{g}_k^{ro} = 0, \\; \\|\\mathbf{g}_k^{ro}\\| = 1\n",
    "\\end{equation}\n",
    "$$\n",
    "\n",
    "(where the zero is a vector of dimension $K_k × 1$) and this for every $k \\in I_0$."
   ]
  },
  {
   "cell_type": "code",
   "execution_count": null,
   "id": "c3a125fc-25f9-40d7-be0a-6d0286cb2d1e",
   "metadata": {},
   "outputs": [],
   "source": []
  }
 ],
 "metadata": {
  "kernelspec": {
   "display_name": "Julia 1.9.3",
   "language": "julia",
   "name": "julia-1.9"
  },
  "language_info": {
   "file_extension": ".jl",
   "mimetype": "application/julia",
   "name": "julia",
   "version": "1.10.4"
  }
 },
 "nbformat": 4,
 "nbformat_minor": 5
}
