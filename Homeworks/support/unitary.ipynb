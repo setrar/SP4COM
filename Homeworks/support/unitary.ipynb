{
 "cells": [
  {
   "cell_type": "code",
   "execution_count": 1,
   "id": "ecf97392-b78a-4b49-b5e9-da17b3613a2f",
   "metadata": {},
   "outputs": [
    {
     "data": {
      "text/plain": [
       "2×2 Matrix{ComplexF64}:\n",
       "          1.0+0.0im          -2.22045e-16+2.77556e-17im\n",
       " -2.22045e-16-2.77556e-17im           1.0+0.0im"
      ]
     },
     "execution_count": 1,
     "metadata": {},
     "output_type": "execute_result"
    }
   ],
   "source": [
    "using LinearAlgebra\n",
    "\n",
    "function RandomUnitaryMatrix(N::Int)\n",
    "    x = (rand(N,N) + rand(N,N)*im) / sqrt(2)\n",
    "    f = qr(x)\n",
    "    diagR = sign.(real(diag(f.R)))\n",
    "    diagR[diagR.==0] .= 1\n",
    "    diagRm = diagm(diagR)\n",
    "    u = f.Q * diagRm\n",
    "    \n",
    "    return u\n",
    "end\n",
    "\n",
    "u = RandomUnitaryMatrix(2)\n",
    "u * u'"
   ]
  },
  {
   "cell_type": "code",
   "execution_count": 3,
   "id": "32aed862-b573-4491-a704-7f81e8b8938a",
   "metadata": {},
   "outputs": [
    {
     "data": {
      "text/plain": [
       "false"
      ]
     },
     "execution_count": 3,
     "metadata": {},
     "output_type": "execute_result"
    }
   ],
   "source": [
    "isapprox(u, I)"
   ]
  },
  {
   "cell_type": "markdown",
   "id": "02cb6e39-1210-4b56-8c81-2b1149c89e34",
   "metadata": {},
   "source": [
    "# References"
   ]
  },
  {
   "cell_type": "markdown",
   "id": "d15b3484-9bd7-4ed7-90ae-b72ff90882d0",
   "metadata": {},
   "source": [
    "- [ ] [How to generate a random unitary matrix perfectly in Julia](https://discourse.julialang.org/t/how-to-generate-a-random-unitary-matrix-perfectly-in-julia/34102)"
   ]
  },
  {
   "cell_type": "code",
   "execution_count": null,
   "id": "d883d170-7d43-46b8-9d52-3b9c12a76923",
   "metadata": {},
   "outputs": [],
   "source": []
  }
 ],
 "metadata": {
  "kernelspec": {
   "display_name": "Julia 1.9.3",
   "language": "julia",
   "name": "julia-1.9"
  },
  "language_info": {
   "file_extension": ".jl",
   "mimetype": "application/julia",
   "name": "julia",
   "version": "1.10.4"
  }
 },
 "nbformat": 4,
 "nbformat_minor": 5
}
