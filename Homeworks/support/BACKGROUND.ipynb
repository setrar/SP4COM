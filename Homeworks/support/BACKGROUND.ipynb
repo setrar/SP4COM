{
 "cells": [
  {
   "cell_type": "markdown",
   "id": "ac25ff0e-b120-40c8-b2f2-e057fb061e54",
   "metadata": {},
   "source": [
    "The description of the adaptation of the spatial Interference Canceling Matched Filter (ICMF) you've provided includes various signal processing elements for a communication system. To clarify the adaptation process, let's break down the key components:\n",
    "\n",
    "1. **Signal $y[k]$:** This is the received signal at the $k$-th time instant, which consists of $m$ subchannels.\n",
    "\n",
    "2. **Filter $\\mathbf{f}$:** This filter aims to cancel the interference from the received signal. It is represented as a row vector.\n",
    "\n",
    "3. **Error signal $\\epsilon[k](\\mathbf{f})$:** The error signal is the difference between the desired signal $d[k]$ and the filtered signal $\\mathbf{f} \\mathbf{x}[k]$. It is a function of the filter $\\mathbf{f}$ and serves as a measure of the performance of the interference cancellation.\n",
    "\n",
    "4. **Desired response $d[k]$:** This is the output of the spatial matched filter, also known as $y_1[k]$. It is what the filter $\\mathbf{f}$ aims to produce by suppressing interference in the received signal $y[k]$.\n",
    "\n",
    "5. **Input signal $x[k]$:** This is the output signal $y_2[k]$ from the orthogonal complement filter $\\mathbf{h}^{\\perp H}$. It serves as the input to the filter $\\mathbf{f}$.\n",
    "\n",
    "6. **Transmitted symbol sequence $a[k]$:** This is the original symbol sequence that was transmitted.\n",
    "\n",
    "7. **Additive noise sequence $v[k]$:** This represents the noise in the system, which is temporally white and spatially colored. The covariance matrix $R_\\mathbf{vv}$ describes the spatial characteristics of the noise, which could include interference.\n",
    "\n",
    "8. **Assumption $\\hat{\\mathbf{h}}[k] = \\mathbf{h}$ and $\\hat{\\mathbf{h}}^\\perp[k] = \\mathbf{h}^\\perp$:** It is assumed that the estimates of the channel $\\mathbf{h}$ and its orthogonal complement $\\mathbf{h}^\\perp$ are accurate.\n",
    "\n",
    "The adaptation process for the filter $\\mathbf{f}$ would typically involve adjusting its coefficients to minimize the error signal $\\epsilon[k]$. This could be done using an adaptive algorithm like the Least Mean Squares (LMS) or the Recursive Least Squares (RLS).\n",
    "\n",
    "Given the system setup and assuming the transmitted signal has power $\\sigma_a^2$, the filter $\\mathbf{f}$ can be adapted to minimize the power of the error signal $\\epsilon[k]$. This could involve an iterative process where the filter coefficients are updated at each time instant $k$ based on the gradient of some cost function (often the expected value of $\\epsilon[k]^2$). The ultimate goal is to recover the transmitted symbol sequence $a[k]$ as accurately as possible from the received signal $y[k]$ despite the presence of noise and interference."
   ]
  },
  {
   "cell_type": "markdown",
   "id": "189e6b16-ae23-4b4e-bd23-f4460b341509",
   "metadata": {},
   "source": [
    "**&#x1F516;** Express the LMMSE filter $\\mathbf{f}^o$, that minimizes $\\sigma_{\\epsilon}^2$, in terms of $\\mathbf{h}$, $\\mathbf{h}^{\\perp}$ and $R_\\mathbf{vv}$."
   ]
  },
  {
   "cell_type": "markdown",
   "id": "fcd14f96-a0db-4ae3-ae66-13609999091b",
   "metadata": {},
   "source": [
    "The Linear Minimum Mean Square Error (LMMSE) filter aims to minimize the mean square error between the actual transmitted symbols and the estimates obtained through the filter. The optimization problem can be stated as finding the filter $\\mathbf{f}^o$ that minimizes the expected value of the square of the error signal $\\epsilon[k]$. In mathematical terms, the LMMSE filter is obtained by solving the following optimization problem:\n",
    "\n",
    "$ \\mathbf{f}^o = \\underset{\\mathbf{f}}{\\text{arg min}} \\; E\\left[ \\left( d[k] - \\mathbf{f} \\mathbf{x}[k] \\right)^2 \\right] $\n",
    "\n",
    "Where $E[\\cdot]$ denotes the expectation operator.\n",
    "\n",
    "Given the received signal $y[k]$ is processed by the filter $\\mathbf{h}^H$ to give $y_1[k]$ and by the filter $\\mathbf{h}^{\\perp H}$ to give $y_2[k] = \\mathbf{x}[k]$, and that the noise is spatially colored with covariance matrix $R_{\\mathbf{vv}}$, the optimal filter $\\mathbf{f}^o$ in LMMSE sense can be expressed as:\n",
    "\n",
    "$ \\mathbf{f}^o = R_{\\mathbf{xx}}^{-1} P_{\\mathbf{xd}} $\n",
    "\n",
    "Where:\n",
    "- $R_{\\mathbf{xx}}$ is the auto-covariance matrix of $\\mathbf{x}[k]$.\n",
    "- $P_{\\mathbf{xd}}$ is the cross-covariance matrix between $\\mathbf{x}[k]$ and $d[k]$.\n",
    "\n",
    "Now let's define $R_{\\mathbf{xx}}$ and $P_{\\mathbf{xd}}$ using the variables given ($\\mathbf{h}$, $\\mathbf{h}^{\\perp}$, $R_{\\mathbf{vv}}$, and $\\sigma_a^2$):\n",
    "\n",
    "1. $R_{\\mathbf{xx}}$ would be the covariance of the output of the orthogonal complement filter, which includes the contribution of the signal (scaled by the transmitted power $\\sigma_a^2$) and the noise (characterized by the noise covariance matrix $R_{\\mathbf{vv}}$):\n",
    "\n",
    "$ R_{\\mathbf{xx}} = \\sigma_a^2 \\mathbf{h}^{\\perp H} \\mathbf{h}^{\\perp} + R_{\\mathbf{vv}} $\n",
    "\n",
    "2. $P_{\\mathbf{xd}}$ is a little trickier since $d[k] = y_1[k] = \\mathbf{h}^H \\mathbf{y}[k]$ and $\\mathbf{y}[k]$ includes both $\\mathbf{x}[k]$ and $\\mathbf{v}[k]$. However, since $\\mathbf{v}[k]$ is independent of $\\mathbf{x}[k]$, its contribution to the cross-covariance is zero, and we have:\n",
    "\n",
    "$ P_{\\mathbf{xd}} = \\sigma_a^2 \\mathbf{h}^{\\perp H} \\mathbf{h} $\n",
    "\n",
    "Putting it all together, the LMMSE filter $\\mathbf{f}^o$ that minimizes $\\sigma_{\\epsilon}^2$ is given by:\n",
    "\n",
    "$ \\mathbf{f}^o = (\\sigma_a^2 \\mathbf{h}^{\\perp H} \\mathbf{h}^{\\perp} + R_{\\mathbf{vv}})^{-1} (\\sigma_a^2 \\mathbf{h}^{\\perp H} \\mathbf{h}) $\n",
    "\n",
    "This filter takes into account the characteristics of both the signal and the noise to minimize the mean square error in estimating $d[k]$."
   ]
  },
  {
   "cell_type": "markdown",
   "id": "a4f276de-5c73-49b9-9b98-7a29990dc138",
   "metadata": {},
   "source": [
    "In signal processing and communication theory, power is expressed as $ \\sigma^2 $ because it represents the variance of the signal, which measures the average power of the signal when it has a zero mean. This is a standard statistical notation for the spread of a random variable's values around its mean."
   ]
  },
  {
   "cell_type": "code",
   "execution_count": null,
   "id": "4924f960-88b6-49a5-abb1-56130fa55edb",
   "metadata": {},
   "outputs": [],
   "source": []
  }
 ],
 "metadata": {
  "kernelspec": {
   "display_name": "Julia 1.9.3",
   "language": "julia",
   "name": "julia-1.9"
  },
  "language_info": {
   "file_extension": ".jl",
   "mimetype": "application/julia",
   "name": "julia",
   "version": "1.10.2"
  }
 },
 "nbformat": 4,
 "nbformat_minor": 5
}
