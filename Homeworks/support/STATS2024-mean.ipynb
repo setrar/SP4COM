{
 "cells": [
  {
   "cell_type": "markdown",
   "id": "2d03d443-f216-4183-a8ed-d39fda229e19",
   "metadata": {},
   "source": [
    "# STATS2024-mean"
   ]
  },
  {
   "cell_type": "code",
   "execution_count": 1,
   "id": "8e697da2-e927-4d7d-a25a-24d75ea751b2",
   "metadata": {},
   "outputs": [
    {
     "data": {
      "text/plain": [
       "sum (generic function with 10 methods)"
      ]
     },
     "execution_count": 1,
     "metadata": {},
     "output_type": "execute_result"
    }
   ],
   "source": [
    "∑ = sum"
   ]
  },
  {
   "cell_type": "markdown",
   "id": "39892d0e-bb82-429c-b98b-33924b481eaa",
   "metadata": {},
   "source": [
    "#### Empirical average of data points "
   ]
  },
  {
   "cell_type": "code",
   "execution_count": 2,
   "id": "08584d41-5dd0-4d1c-8740-64a5a45eba27",
   "metadata": {},
   "outputs": [
    {
     "name": "stdout",
     "output_type": "stream",
     "text": [
      "The empirical average age is: 29.400000000000002\n"
     ]
    }
   ],
   "source": [
    "# Define the dataset\n",
    "ages = [23, 29, 35, 42, 18]\n",
    "\n",
    "# Calculate the count of elements\n",
    "N = length(ages)\n",
    "\n",
    "# Calculate the sum using a for-comprehension\n",
    "average_age = 1/N * ∑([age for age in ages])\n",
    "\n",
    "\n",
    "println(\"The empirical average age is: \", average_age)\n"
   ]
  },
  {
   "cell_type": "code",
   "execution_count": null,
   "id": "6bdc0827-09c0-461f-8eae-3e2685686b63",
   "metadata": {},
   "outputs": [],
   "source": []
  }
 ],
 "metadata": {
  "kernelspec": {
   "display_name": "Julia 1.9.3",
   "language": "julia",
   "name": "julia-1.9"
  },
  "language_info": {
   "file_extension": ".jl",
   "mimetype": "application/julia",
   "name": "julia",
   "version": "1.10.2"
  }
 },
 "nbformat": 4,
 "nbformat_minor": 5
}
