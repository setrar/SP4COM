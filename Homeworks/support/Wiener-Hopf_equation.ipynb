{
 "cells": [
  {
   "cell_type": "code",
   "execution_count": 16,
   "id": "32989921-c96a-4631-a11c-0073346076e3",
   "metadata": {},
   "outputs": [],
   "source": [
    "using LaTeXStrings\n",
    "using LinearAlgebra\n",
    "using FFTW"
   ]
  },
  {
   "cell_type": "code",
   "execution_count": 17,
   "id": "dc762f3c-c113-4b3b-be65-5fb04b005d36",
   "metadata": {},
   "outputs": [
    {
     "data": {
      "text/plain": [
       "norm (generic function with 8 methods)"
      ]
     },
     "execution_count": 17,
     "metadata": {},
     "output_type": "execute_result"
    }
   ],
   "source": [
    "include(\"operations.jl\")"
   ]
  },
  {
   "cell_type": "code",
   "execution_count": 18,
   "id": "b3754d56-0fc3-4a0c-b320-f0fada4c6e7b",
   "metadata": {},
   "outputs": [
    {
     "name": "stdout",
     "output_type": "stream",
     "text": [
      "The optimal filter coefficients $f^o$ are: [-0.047619047619047616, 1.285714285714286, -0.38095238095238093]\n"
     ]
    }
   ],
   "source": [
    "# Example data for demonstration purposes:\n",
    "# Cross-correlation between desired signal and observed signal\n",
    "Rᵧᵦ = [2, 3, 1]  # Replace with actual cross-correlation vector\n",
    "\n",
    "# Auto-correlation of the observed signal\n",
    "Rᵧᵧ = [4 2 1; 2 3 2; 1 2 4]  # Replace with actual auto-correlation matrix\n",
    "\n",
    "# Solve the Wiener-Hopf equation for the optimal filter\n",
    "# R_yy * f^o = R_yd\n",
    "# fᵒ = inv(Rᵧᵧ) * Rᵧᵦ  # Using the backslash operator to solve the linear system\n",
    "# fᵒ = Rᵧᵧ \\ Rᵧᵦ    # Using the backslash operator to solve the linear system\n",
    "fᵒ = (Rᵧᵧ)⁻¹ * Rᵧᵦ    # Using the backslash operator to solve the linear system\n",
    "\n",
    "println(L\"The optimal filter coefficients $f^o$ are: \", fᵒ)\n"
   ]
  },
  {
   "cell_type": "code",
   "execution_count": null,
   "id": "6de65717-734f-4611-9a9f-ab7b30645e79",
   "metadata": {},
   "outputs": [],
   "source": []
  }
 ],
 "metadata": {
  "kernelspec": {
   "display_name": "Julia 1.9.3",
   "language": "julia",
   "name": "julia-1.9"
  },
  "language_info": {
   "file_extension": ".jl",
   "mimetype": "application/julia",
   "name": "julia",
   "version": "1.10.3"
  }
 },
 "nbformat": 4,
 "nbformat_minor": 5
}
