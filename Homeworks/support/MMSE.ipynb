{
 "cells": [
  {
   "cell_type": "code",
   "execution_count": 1,
   "id": "8443d191-26ce-42a6-a4f9-7e26afec1370",
   "metadata": {},
   "outputs": [],
   "source": [
    "using LinearAlgebra\n",
    "using FFTW"
   ]
  },
  {
   "cell_type": "code",
   "execution_count": 2,
   "id": "e52d051b-f722-4863-b110-1a5f8ac1f02e",
   "metadata": {},
   "outputs": [
    {
     "data": {
      "text/plain": [
       "norm (generic function with 8 methods)"
      ]
     },
     "execution_count": 2,
     "metadata": {},
     "output_type": "execute_result"
    }
   ],
   "source": [
    "include(\"../modules/operations.jl\")"
   ]
  },
  {
   "cell_type": "code",
   "execution_count": 3,
   "id": "3b758201-22db-4d52-acf6-d04aec39a20a",
   "metadata": {},
   "outputs": [
    {
     "data": {
      "text/plain": [
       "0.5"
      ]
     },
     "execution_count": 3,
     "metadata": {},
     "output_type": "execute_result"
    }
   ],
   "source": [
    "# Parameters\n",
    "σₐ = 1\n",
    "σ_b = 0.5\n",
    "σ_u = 0.1\n",
    "m = 4\n",
    "θ = π / 6\n",
    "ϕ = π / 4\n",
    "ə = 0.5  # d = λ/2, assume λ = 1 for simplicity"
   ]
  },
  {
   "cell_type": "code",
   "execution_count": 4,
   "id": "f15dd095-445f-4574-86ec-eae3dd1d6107",
   "metadata": {},
   "outputs": [
    {
     "data": {
      "text/plain": [
       "ula_response (generic function with 1 method)"
      ]
     },
     "execution_count": 4,
     "metadata": {},
     "output_type": "execute_result"
    }
   ],
   "source": [
    "# ULA response vectors\n",
    "function ula_response(angle, m, d)\n",
    "    return [exp(1im * 2 * π * d * sin(angle) * i) for i in 0:(m-1)]\n",
    "end"
   ]
  },
  {
   "cell_type": "code",
   "execution_count": 5,
   "id": "20be2253-f6f0-455f-885f-42b0aacf2746",
   "metadata": {},
   "outputs": [
    {
     "ename": "LoadError",
     "evalue": "MethodError: no method matching inv(::Vector{ComplexF64})\n\n\u001b[0mClosest candidates are:\n\u001b[0m  inv(\u001b[91m::BigFloat\u001b[39m)\n\u001b[0m\u001b[90m   @\u001b[39m \u001b[90mBase\u001b[39m \u001b[90m\u001b[4mmpfr.jl:533\u001b[24m\u001b[39m\n\u001b[0m  inv(\u001b[91m::Missing\u001b[39m)\n\u001b[0m\u001b[90m   @\u001b[39m \u001b[90mBase\u001b[39m \u001b[90m\u001b[4mmissing.jl:101\u001b[24m\u001b[39m\n\u001b[0m  inv(\u001b[91m::ComplexF64\u001b[39m)\n\u001b[0m\u001b[90m   @\u001b[39m \u001b[90mBase\u001b[39m \u001b[90m\u001b[4mcomplex.jl:476\u001b[24m\u001b[39m\n\u001b[0m  ...\n",
     "output_type": "error",
     "traceback": [
      "MethodError: no method matching inv(::Vector{ComplexF64})\n\n\u001b[0mClosest candidates are:\n\u001b[0m  inv(\u001b[91m::BigFloat\u001b[39m)\n\u001b[0m\u001b[90m   @\u001b[39m \u001b[90mBase\u001b[39m \u001b[90m\u001b[4mmpfr.jl:533\u001b[24m\u001b[39m\n\u001b[0m  inv(\u001b[91m::Missing\u001b[39m)\n\u001b[0m\u001b[90m   @\u001b[39m \u001b[90mBase\u001b[39m \u001b[90m\u001b[4mmissing.jl:101\u001b[24m\u001b[39m\n\u001b[0m  inv(\u001b[91m::ComplexF64\u001b[39m)\n\u001b[0m\u001b[90m   @\u001b[39m \u001b[90mBase\u001b[39m \u001b[90m\u001b[4mcomplex.jl:476\u001b[24m\u001b[39m\n\u001b[0m  ...\n",
      "",
      "Stacktrace:",
      " [1] *(x::Vector{ComplexF64}, ::Inverser)",
      "   @ Main ~/Developer/SP4COM/Homeworks/modules/operations.jl:13",
      " [2] top-level scope",
      "   @ In[5]:11"
     ]
    }
   ],
   "source": [
    "h = ula_response(θ, m, ə)\n",
    "g = exp(1im * π / 4) * ula_response(ϕ, m, ə)\n",
    "\n",
    "# Covariance matrix of the received signal\n",
    "Rᵧ = σₐ^2 * (h * (h)ᵀ) + σ_b^2 * (g * g') + σ_u^2 * I(m)\n",
    "\n",
    "# Cross-correlation vector\n",
    "rₔᵧ = σₐ^2 * h\n",
    "\n",
    "# LMMSE filter\n",
    "f = Rᵧ * (rₔᵧ)⁻¹\n",
    "\n",
    "# MMSE\n",
    "mmse = σₐ^2 - (rₔᵧ)ꜛ * f\n",
    "\n",
    "# Results\n",
    "println(\"LMMSE Filter f: \", f)\n",
    "println(\"MMSE: \", mmse)\n"
   ]
  },
  {
   "cell_type": "code",
   "execution_count": null,
   "id": "d9518a77-fe6b-4d97-a378-2a46428253b4",
   "metadata": {},
   "outputs": [],
   "source": []
  }
 ],
 "metadata": {
  "kernelspec": {
   "display_name": "Julia 1.9.3",
   "language": "julia",
   "name": "julia-1.9"
  },
  "language_info": {
   "file_extension": ".jl",
   "mimetype": "application/julia",
   "name": "julia",
   "version": "1.10.4"
  }
 },
 "nbformat": 4,
 "nbformat_minor": 5
}
