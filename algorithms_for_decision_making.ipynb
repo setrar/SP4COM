{
 "cells": [
  {
   "cell_type": "code",
   "execution_count": 5,
   "id": "893f1a47-cbff-4889-b628-f2b6f9ddc304",
   "metadata": {},
   "outputs": [
    {
     "data": {
      "text/plain": [
       "select (generic function with 1 method)"
      ]
     },
     "execution_count": 5,
     "metadata": {},
     "output_type": "execute_result"
    }
   ],
   "source": [
    "struct Variable\n",
    "    name::Symbol\n",
    "    r::Int # number of possible values\n",
    "end\n",
    "\n",
    "const Assignment = Dict{Symbol,Int}\n",
    "\n",
    "const FactorTable = Dict{Assignment,Float64}\n",
    "\n",
    "struct Factor\n",
    "    vars::Vector{Variable}\n",
    "    table::FactorTable\n",
    "end\n",
    "\n",
    "variablenames(ϕ::Factor) = [var.name for var in ϕ.vars]\n",
    "\n",
    "select(a::Assignment, varnames::Vector{Symbol}) = Assignment(n=>a[n] for n in varnames)"
   ]
  },
  {
   "cell_type": "code",
   "execution_count": 6,
   "id": "14ea87fc-386b-45e2-b75e-b540216fe18e",
   "metadata": {},
   "outputs": [
    {
     "data": {
      "text/plain": [
       "normalize! (generic function with 1 method)"
      ]
     },
     "execution_count": 6,
     "metadata": {},
     "output_type": "execute_result"
    }
   ],
   "source": [
    "function assignments(vars::AbstractVector{Variable})\n",
    "    names = [var.name for var in vars]\n",
    "    return vec([Assignment(n=>v for (n,v) in zip(names, values)) for values in product((1:v.r for v in vars)...)])\n",
    "end\n",
    "\n",
    "function normalize!(ϕ::Factor)\n",
    "    z = sum(p for (a,p) in ϕ.table)\n",
    "    for (a,p) in ϕ.table\n",
    "        ϕ.table[a] = p/z\n",
    "    end\n",
    "    return ϕ\n",
    "end"
   ]
  },
  {
   "cell_type": "code",
   "execution_count": 8,
   "id": "fd4b2b57-496f-493f-ade6-44b47d10306e",
   "metadata": {},
   "outputs": [],
   "source": [
    "Base.Dict{Symbol,V}(a::NamedTuple) where V = Dict{Symbol,V}(n=>v for (n,v) in zip(keys(a), values(a)))\n",
    "Base.convert(::Type{Dict{Symbol,V}}, a::NamedTuple) where V = Dict{Symbol,V}(a)\n",
    "Base.isequal(a::Dict{Symbol,<:Any}, nt::NamedTuple) = length(a) == length(nt) && all(a[n] == v for (n,v) in zip(keys(nt), values(nt)))"
   ]
  },
  {
   "cell_type": "code",
   "execution_count": 9,
   "id": "f5963f58-d623-4532-b55e-b90ad353adc0",
   "metadata": {},
   "outputs": [
    {
     "data": {
      "text/plain": [
       "Factor(Variable[Variable(:x, 2), Variable(:y, 2), Variable(:z, 2)], Dict(Dict(:y => 2, :z => 2, :x => 1) => 0.37, Dict(:y => 1, :z => 2, :x => 1) => 0.31, Dict(:y => 2, :z => 1, :x => 2) => 0.02, Dict(:y => 1, :z => 1, :x => 1) => 0.08, Dict(:y => 1, :z => 2, :x => 2) => 0.05, Dict(:y => 2, :z => 2, :x => 2) => 0.07, Dict(:y => 2, :z => 1, :x => 1) => 0.09, Dict(:y => 1, :z => 1, :x => 2) => 0.01))"
      ]
     },
     "execution_count": 9,
     "metadata": {},
     "output_type": "execute_result"
    }
   ],
   "source": [
    "# requires convenience functions from appendix G.5\n",
    "\n",
    "X = Variable(:x, 2)\n",
    "Y = Variable(:y, 2)\n",
    "Z = Variable(:z, 2)\n",
    "\n",
    "ϕ = Factor([X, Y, Z], FactorTable(\n",
    "    (x=1, y=1, z=1) => 0.08, (x=1, y=1, z=2) => 0.31,\n",
    "    (x=1, y=2, z=1) => 0.09, (x=1, y=2, z=2) => 0.37,\n",
    "    (x=2, y=1, z=1) => 0.01, (x=2, y=1, z=2) => 0.05,\n",
    "    (x=2, y=2, z=1) => 0.02, (x=2, y=2, z=2) => 0.07,\n",
    "))"
   ]
  },
  {
   "cell_type": "code",
   "execution_count": null,
   "id": "4b59f073-7ed6-46b1-82f1-dc1e6934dfa4",
   "metadata": {},
   "outputs": [],
   "source": []
  }
 ],
 "metadata": {
  "kernelspec": {
   "display_name": "Julia 1.9.3",
   "language": "julia",
   "name": "julia-1.9"
  },
  "language_info": {
   "file_extension": ".jl",
   "mimetype": "application/julia",
   "name": "julia",
   "version": "1.10.2"
  }
 },
 "nbformat": 4,
 "nbformat_minor": 5
}
