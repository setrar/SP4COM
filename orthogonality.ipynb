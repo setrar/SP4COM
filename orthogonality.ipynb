{
 "cells": [
  {
   "cell_type": "code",
   "execution_count": 1,
   "id": "70c901f6-53bc-4880-88fa-1f49ff00ac09",
   "metadata": {},
   "outputs": [],
   "source": [
    "using LinearAlgebra\n",
    "using Plots"
   ]
  },
  {
   "cell_type": "code",
   "execution_count": 2,
   "id": "acd84f47-029c-487e-a89b-373e43d4abef",
   "metadata": {},
   "outputs": [
    {
     "ename": "LoadError",
     "evalue": "ParseError:\n\u001b[90m# Error @ \u001b[0;0m\u001b]8;;file:///Users/valiha/Developer/SP4COM/In[2]#3:4\u001b\\\u001b[90mIn[2]:3:4\u001b[0;0m\u001b]8;;\u001b\\\nh = [1, 2, 3]\ng⟂ \u001b[48;2;120;70;70m=\u001b[0;0m [-6, 3, 0] # typed \\perp\n\u001b[90m#  ╙ ── \u001b[0;0m\u001b[91munexpected `=`\u001b[0;0m",
     "output_type": "error",
     "traceback": [
      "ParseError:\n\u001b[90m# Error @ \u001b[0;0m\u001b]8;;file:///Users/valiha/Developer/SP4COM/In[2]#3:4\u001b\\\u001b[90mIn[2]:3:4\u001b[0;0m\u001b]8;;\u001b\\\nh = [1, 2, 3]\ng⟂ \u001b[48;2;120;70;70m=\u001b[0;0m [-6, 3, 0] # typed \\perp\n\u001b[90m#  ╙ ── \u001b[0;0m\u001b[91munexpected `=`\u001b[0;0m",
      "",
      "Stacktrace:",
      " [1] top-level scope",
      "   @ In[2]:3"
     ]
    }
   ],
   "source": [
    "# Define vectors h and g\n",
    "h = [1, 2, 3]\n",
    "g⟂ = [-6, 3, 0] # typed \\perp\n"
   ]
  },
  {
   "cell_type": "code",
   "execution_count": 3,
   "id": "31596335-7d9f-4d11-9014-355baab407a4",
   "metadata": {},
   "outputs": [
    {
     "ename": "LoadError",
     "evalue": "ParseError:\n\u001b[90m# Error @ \u001b[0;0m\u001b]8;;file:///Users/valiha/Developer/SP4COM/In[3]#2:24\u001b\\\u001b[90mIn[3]:2:24\u001b[0;0m\u001b]8;;\u001b\\\n# Check if orthogonal\nis_orthogonal = (h ⋅ g⟂\u001b[48;2;120;70;70m)\u001b[0;0m == 0\n\u001b[90m#                      ╙ ── \u001b[0;0m\u001b[91munexpected `)`\u001b[0;0m",
     "output_type": "error",
     "traceback": [
      "ParseError:\n\u001b[90m# Error @ \u001b[0;0m\u001b]8;;file:///Users/valiha/Developer/SP4COM/In[3]#2:24\u001b\\\u001b[90mIn[3]:2:24\u001b[0;0m\u001b]8;;\u001b\\\n# Check if orthogonal\nis_orthogonal = (h ⋅ g⟂\u001b[48;2;120;70;70m)\u001b[0;0m == 0\n\u001b[90m#                      ╙ ── \u001b[0;0m\u001b[91munexpected `)`\u001b[0;0m",
      "",
      "Stacktrace:",
      " [1] top-level scope",
      "   @ In[3]:2"
     ]
    }
   ],
   "source": [
    "# Check if orthogonal\n",
    "is_orthogonal = (h ⋅ g⟂) == 0\n",
    "# Display orthogonality result\n",
    "println(\"Are the vectors orthogonal? \", is_orthogonal)\n"
   ]
  },
  {
   "cell_type": "code",
   "execution_count": 4,
   "id": "f756b519-4048-47a8-9c5c-0646537b7b66",
   "metadata": {},
   "outputs": [
    {
     "ename": "LoadError",
     "evalue": "UndefVarError: `g` not defined",
     "output_type": "error",
     "traceback": [
      "UndefVarError: `g` not defined",
      "",
      "Stacktrace:",
      " [1] top-level scope",
      "   @ In[4]:5"
     ]
    }
   ],
   "source": [
    "\n",
    "# Plot\n",
    "plot(legend=:topright, xlims=(-7, 4), ylims=(-1, 4), xlabel=\"X\", ylabel=\"Y\", title=\"Vector Plot\", aspect_ratio=:equal)\n",
    "quiver!([0], [0], quiver=([h[1]], [h[2]]), color=:red, label=\"h\")\n",
    "quiver!([0], [0], quiver=([g⟂[1]], [g⟂[2]]), color=:blue, label=\"g\")"
   ]
  },
  {
   "cell_type": "code",
   "execution_count": null,
   "id": "2ebec525-5f26-4ad1-81a7-72907d3620be",
   "metadata": {},
   "outputs": [],
   "source": []
  }
 ],
 "metadata": {
  "kernelspec": {
   "display_name": "Julia 1.9.3",
   "language": "julia",
   "name": "julia-1.9"
  },
  "language_info": {
   "file_extension": ".jl",
   "mimetype": "application/julia",
   "name": "julia",
   "version": "1.10.2"
  }
 },
 "nbformat": 4,
 "nbformat_minor": 5
}
