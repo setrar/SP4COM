{
 "cells": [
  {
   "cell_type": "markdown",
   "id": "40e24a30-f00b-4c89-b614-83a8004be784",
   "metadata": {},
   "source": [
    "To demonstrate the use of the Matrix Inversion Lemma in Julia, let's create a simple example. We'll start with an invertible matrix \\(A\\), and then we'll modify it by adding a rank-1 update in the form of \\(UCV^T\\) (where \\(U\\), \\(C\\), and \\(V^T\\) are matrices with appropriate dimensions). We will calculate the inverse of the modified matrix using both the Matrix Inversion Lemma and the direct inversion method for comparison.\n",
    "\n",
    "Here's the Julia code snippet:\n"
   ]
  },
  {
   "cell_type": "code",
   "execution_count": null,
   "id": "0757cd8b-2b28-4f79-843a-da008693c134",
   "metadata": {},
   "outputs": [],
   "source": [
    "using LinearAlgebra\n"
   ]
  },
  {
   "cell_type": "code",
   "execution_count": 4,
   "id": "c22db2ed-cdf0-4270-96e3-0b5a353a6aa2",
   "metadata": {},
   "outputs": [
    {
     "ename": "LoadError",
     "evalue": "MethodError: no method matching *(::Vector{Int64}, ::Vector{Int64})\n\n\u001b[0mClosest candidates are:\n\u001b[0m  *(::Any, ::Any, \u001b[91m::Any\u001b[39m, \u001b[91m::Any...\u001b[39m)\n\u001b[0m\u001b[90m   @\u001b[39m \u001b[90mBase\u001b[39m \u001b[90m\u001b[4moperators.jl:587\u001b[24m\u001b[39m\n\u001b[0m  *(\u001b[91m::Diagonal\u001b[39m, ::AbstractVector)\n\u001b[0m\u001b[90m   @\u001b[39m \u001b[35mLinearAlgebra\u001b[39m \u001b[90m~/.julia/juliaup/julia-1.10.2+0.aarch64.apple.darwin14/share/julia/stdlib/v1.10/LinearAlgebra/src/\u001b[39m\u001b[90m\u001b[4mdiagonal.jl:283\u001b[24m\u001b[39m\n\u001b[0m  *(\u001b[91m::Transpose{T, <:AbstractVector}\u001b[39m, ::AbstractVector{T}) where T<:Real\n\u001b[0m\u001b[90m   @\u001b[39m \u001b[35mLinearAlgebra\u001b[39m \u001b[90m~/.julia/juliaup/julia-1.10.2+0.aarch64.apple.darwin14/share/julia/stdlib/v1.10/LinearAlgebra/src/\u001b[39m\u001b[90m\u001b[4madjtrans.jl:463\u001b[24m\u001b[39m\n\u001b[0m  ...\n",
     "output_type": "error",
     "traceback": [
      "MethodError: no method matching *(::Vector{Int64}, ::Vector{Int64})\n\n\u001b[0mClosest candidates are:\n\u001b[0m  *(::Any, ::Any, \u001b[91m::Any\u001b[39m, \u001b[91m::Any...\u001b[39m)\n\u001b[0m\u001b[90m   @\u001b[39m \u001b[90mBase\u001b[39m \u001b[90m\u001b[4moperators.jl:587\u001b[24m\u001b[39m\n\u001b[0m  *(\u001b[91m::Diagonal\u001b[39m, ::AbstractVector)\n\u001b[0m\u001b[90m   @\u001b[39m \u001b[35mLinearAlgebra\u001b[39m \u001b[90m~/.julia/juliaup/julia-1.10.2+0.aarch64.apple.darwin14/share/julia/stdlib/v1.10/LinearAlgebra/src/\u001b[39m\u001b[90m\u001b[4mdiagonal.jl:283\u001b[24m\u001b[39m\n\u001b[0m  *(\u001b[91m::Transpose{T, <:AbstractVector}\u001b[39m, ::AbstractVector{T}) where T<:Real\n\u001b[0m\u001b[90m   @\u001b[39m \u001b[35mLinearAlgebra\u001b[39m \u001b[90m~/.julia/juliaup/julia-1.10.2+0.aarch64.apple.darwin14/share/julia/stdlib/v1.10/LinearAlgebra/src/\u001b[39m\u001b[90m\u001b[4madjtrans.jl:463\u001b[24m\u001b[39m\n\u001b[0m  ...\n",
      "",
      "Stacktrace:",
      " [1] top-level scope",
      "   @ In[4]:14"
     ]
    }
   ],
   "source": [
    "\n",
    "# Define an invertible matrix A\n",
    "A = [2.0 1; 1 2]\n",
    "\n",
    "# Define matrices U, C, V for the rank-1 update\n",
    "U = [1; 0]\n",
    "C = [2]  # In this case, C is just a scalar, making it a rank-1 update\n",
    "V = [1, 0]\n",
    "\n",
    "# Calculate the inverse of A directly\n",
    "invA = inv(A)\n",
    "\n",
    "# Modify A with the rank-1 update: A + UCV'\n",
    "A_modified = A + U * C * transpose(V)\n",
    "\n",
    "# Calculate the inverse of the modified A directly\n",
    "invA_modified_direct = inv(A_modified)\n",
    "\n",
    "# Use the Matrix Inversion Lemma to calculate the inverse of the modified A\n",
    "invA_modified_lemma = invA - invA * U * inv(C + transpose(V) * invA * U) * transpose(V) * invA\n",
    "\n",
    "# Display the results\n",
    "println(\"Inverse of A (direct):\")\n",
    "println(invA)\n",
    "println(\"\\nInverse of the modified A (direct):\")\n",
    "println(invA_modified_direct)\n",
    "println(\"\\nInverse of the modified A (Matrix Inversion Lemma):\")\n",
    "println(invA_modified_lemma)"
   ]
  },
  {
   "cell_type": "markdown",
   "id": "c86edd29-2a65-437b-ab03-4d50ea18efa3",
   "metadata": {},
   "source": [
    "\n",
    "\n",
    "This example demonstrates how to:\n",
    "\n",
    "1. Define an initial invertible matrix \\(A\\) and matrices \\(U\\), \\(C\\), and \\(V\\) for the update.\n",
    "2. Calculate the inverse of \\(A\\) directly using Julia's `inv` function.\n",
    "3. Apply a rank-1 update to \\(A\\) and calculate the inverse of the modified matrix both directly and using the Matrix Inversion Lemma.\n",
    "\n",
    "Remember, the Matrix Inversion Lemma is especially useful in scenarios where \\(A\\) is large and \\(U\\), \\(C\\), and \\(V\\) are such that \\(UCV^T\\) represents a low-rank modification, making the lemma's approach computationally more efficient than direct inversion. In this simplified example, \\(A\\) is small, and the direct computation is straightforward, but the lemma's utility becomes apparent with larger matrices and in iterative algorithms where matrix updates occur repeatedly."
   ]
  }
 ],
 "metadata": {
  "kernelspec": {
   "display_name": "Julia 1.9.3",
   "language": "julia",
   "name": "julia-1.9"
  },
  "language_info": {
   "file_extension": ".jl",
   "mimetype": "application/julia",
   "name": "julia",
   "version": "1.10.2"
  }
 },
 "nbformat": 4,
 "nbformat_minor": 5
}
