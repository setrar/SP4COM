{
 "cells": [
  {
   "cell_type": "code",
   "execution_count": 1,
   "id": "2bc12d96-492c-4cfc-9030-247b1cce3682",
   "metadata": {},
   "outputs": [],
   "source": [
    "using Luxor\n",
    "\n",
    "function draw_block_diagram()\n",
    "    Drawing(800, 250, \"images/block_diagram.png\")  # Set the size of the drawing\n",
    "    origin()  # Set the current point to the center of the drawing\n",
    "\n",
    "    # Define block positions and sizes\n",
    "    block_width = 100\n",
    "    block_height = 50\n",
    "    blocks = [\n",
    "        Point(-300, 0),\n",
    "        Point(-100, 0),\n",
    "        Point(100, 50),\n",
    "        Point(100, -50)\n",
    "    ]\n",
    "\n",
    "    # Draw blocks\n",
    "    for point in blocks\n",
    "        rect(point, block_width, block_height, :stroke)\n",
    "    end\n",
    "\n",
    "    # Define arrows\n",
    "    arrows = [\n",
    "        (Point(-250, 0), Point(-200, 0)),  # a[k] to h\n",
    "        # Add the rest of the arrows here...\n",
    "    ]\n",
    "\n",
    "    # Draw arrows\n",
    "    setline(2)  # Set line width\n",
    "    for (start, stop) in arrows\n",
    "        arrow(start, stop, linewidth=2)\n",
    "    end\n",
    "\n",
    "    # Place labels\n",
    "    fontsize(12)  # Set font size for the text\n",
    "    text(\"a[k]\", Point(-325, -10))\n",
    "    text(\"y[k]\", Point(-125, -10))\n",
    "    # Add the rest of the labels here...\n",
    "\n",
    "    # Save the drawing\n",
    "    finish()\n",
    "    preview()  # Open the drawing in a default viewer\n",
    "end\n",
    "\n",
    "draw_block_diagram();\n"
   ]
  },
  {
   "cell_type": "code",
   "execution_count": null,
   "id": "7225e154-531e-4564-8a52-ee420893afc3",
   "metadata": {},
   "outputs": [],
   "source": []
  },
  {
   "cell_type": "markdown",
   "id": "68780afe-5468-4fb7-956a-6c30f14d61e6",
   "metadata": {},
   "source": [
    "<img src=images/block_diagram.png width='' height='' > </img>"
   ]
  },
  {
   "cell_type": "code",
   "execution_count": null,
   "id": "fb7fb121-e9f8-4e01-9a56-e176e30ecdec",
   "metadata": {},
   "outputs": [],
   "source": []
  }
 ],
 "metadata": {
  "kernelspec": {
   "display_name": "Julia 1.9.3",
   "language": "julia",
   "name": "julia-1.9"
  },
  "language_info": {
   "file_extension": ".jl",
   "mimetype": "application/julia",
   "name": "julia",
   "version": "1.10.2"
  }
 },
 "nbformat": 4,
 "nbformat_minor": 5
}
