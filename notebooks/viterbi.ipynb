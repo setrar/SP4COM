{
 "cells": [
  {
   "cell_type": "markdown",
   "id": "579beb4a-67a6-4382-8c75-c85745296e5c",
   "metadata": {},
   "source": [
    "\n",
    "Let's create a simplified example of the Viterbi algorithm using Julia. We'll implement a scenario where we decode the most likely weather sequence (hidden states) based on someone wearing different types of clothes (observed events). This example simplifies the concepts behind hidden Markov models (HMMs) and demonstrates how the Viterbi algorithm works.\n",
    "\n",
    "In this example, we consider two weather conditions (states): Sunny and Rainy. The observations are types of clothes: Coat, T-shirt, and Sweater. We'll set up transition probabilities between weather conditions, emission probabilities for wearing specific types of clothes given the weather, and initial state probabilities."
   ]
  },
  {
   "cell_type": "code",
   "execution_count": 1,
   "id": "dc9d11f7-18dc-4288-a7fa-703b44c6b652",
   "metadata": {},
   "outputs": [
    {
     "name": "stdout",
     "output_type": "stream",
     "text": [
      "Best weather sequence: [\"Rainy\", \"Sunny\", \"Sunny\"]\n"
     ]
    }
   ],
   "source": [
    "# Define the states and observations\n",
    "states = [\"Sunny\", \"Rainy\"]\n",
    "observations = [\"Coat\", \"T-shirt\", \"Sweater\"]\n",
    "\n",
    "# Transition probabilities: state[i] to state[j]\n",
    "transitionProbs = Dict(\n",
    "    \"Sunny\" => Dict(\"Sunny\" => 0.7, \"Rainy\" => 0.3),\n",
    "    \"Rainy\" => Dict(\"Sunny\" => 0.4, \"Rainy\" => 0.6)\n",
    ")\n",
    "\n",
    "# Emission probabilities: state to observation\n",
    "emissionProbs = Dict(\n",
    "    \"Sunny\" => Dict(\"Coat\" => 0.1, \"T-shirt\" => 0.6, \"Sweater\" => 0.3),\n",
    "    \"Rainy\" => Dict(\"Coat\" => 0.8, \"T-shirt\" => 0.05, \"Sweater\" => 0.15)\n",
    ")\n",
    "\n",
    "# Initial probabilities\n",
    "initialProbs = Dict(\"Sunny\" => 0.5, \"Rainy\" => 0.5)\n",
    "\n",
    "# Viterbi algorithm\n",
    "function viterbi(obs, states, start_p, trans_p, emit_p)\n",
    "    V = [Dict()]\n",
    "    path = Dict()\n",
    "\n",
    "    for y in states\n",
    "        V[1][y] = start_p[y] * emit_p[y][obs[1]]\n",
    "        path[y] = [y]\n",
    "    end\n",
    "\n",
    "    for t in 2:length(obs)\n",
    "        V = [V; Dict()]\n",
    "        newpath = Dict()\n",
    "\n",
    "        for y in states\n",
    "            (prob, state) = maximum([(V[t-1][y0] * trans_p[y0][y] * emit_p[y][obs[t]], y0) for y0 in states])\n",
    "            V[t][y] = prob\n",
    "            newpath[y] = copy(path[state])\n",
    "            push!(newpath[y], y)\n",
    "        end\n",
    "\n",
    "        path = newpath\n",
    "    end\n",
    "\n",
    "    (max_prob, max_path) = maximum([(V[end][y], y) for y in states])\n",
    "\n",
    "    return path[max_path]\n",
    "end\n",
    "\n",
    "# Example observation sequence: person wears a Coat, then a T-shirt, then a Sweater\n",
    "obs_sequence = [\"Coat\", \"T-shirt\", \"Sweater\"]\n",
    "println(\"Best weather sequence: \", viterbi(obs_sequence, states, initialProbs, transitionProbs, emissionProbs))\n"
   ]
  },
  {
   "cell_type": "markdown",
   "id": "a1ad55bc-4698-4831-b0e6-475d651df133",
   "metadata": {},
   "source": [
    "This Julia code implements a basic version of the Viterbi algorithm. It finds the most likely sequence of weather conditions based on the observed sequence of clothes. The example uses hardcoded probabilities for simplicity. In a real-world application, these probabilities would be estimated from data."
   ]
  },
  {
   "cell_type": "code",
   "execution_count": null,
   "id": "e9f05c43-d76d-4ebe-8f3e-b20eaf68fb92",
   "metadata": {},
   "outputs": [],
   "source": []
  }
 ],
 "metadata": {
  "kernelspec": {
   "display_name": "Julia 1.9.3",
   "language": "julia",
   "name": "julia-1.9"
  },
  "language_info": {
   "file_extension": ".jl",
   "mimetype": "application/julia",
   "name": "julia",
   "version": "1.10.3"
  }
 },
 "nbformat": 4,
 "nbformat_minor": 5
}
