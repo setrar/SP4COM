{
 "cells": [
  {
   "cell_type": "code",
   "execution_count": 1,
   "id": "8c53f71e-3cc5-4552-bb4f-1453f2062826",
   "metadata": {},
   "outputs": [],
   "source": [
    "# ---------------------------------------------------- \n",
    "# --- Modules  \n",
    "# ---------------------------------------------------- \n",
    "using DigitalComm\n",
    "using Plots; \n",
    "using PGFPlotsX \n",
    "# pgfplotsx(); # using PGFPlotsX as Plots backend"
   ]
  },
  {
   "cell_type": "code",
   "execution_count": 2,
   "id": "34592b89-b2a1-44fa-b282-d8849f629fc5",
   "metadata": {},
   "outputs": [
    {
     "data": {
      "text/plain": [
       "doPlot (generic function with 1 method)"
      ]
     },
     "execution_count": 2,
     "metadata": {},
     "output_type": "execute_result"
    }
   ],
   "source": [
    "function doPlot(snrVect,ber,qamVect)\n",
    "\ta = 0;\n",
    "\t@pgf a = Axis({\n",
    "\t\t\t\t   ymode\t  = \"log\",\n",
    "\t\t\t\t   height      =\"3in\",\n",
    "\t\t\t\t   width       =\"4in\",\n",
    "\t\t\t\t   grid,\n",
    "\t\t\t\t   xlabel      = \"SNR [dB]\",\n",
    "\t\t\t\t   ylabel      = \"Bit Error Rate \",\n",
    "\t\t\t\t   ymax \t   = 1,\n",
    "\t\t\t\t   ymin \t   = 10.0^(-5),\n",
    "\t\t\t\t   title       = \"AWGN BER for QAM\",\n",
    "\t\t\t\t   legend_style=\"{at={(0,0)},anchor=south west,legend cell align=left,align=left,draw=white!15!black}\"\n",
    "\t\t\t\t   },\n",
    "\t\t\t\t  Plot({color=\"red\",mark=\"square*\"},Table([snrVect,ber[1,:]])),\n",
    "\t\t\t\t  LegendEntry(\"QPSK\"),\n",
    "\t\t\t\t  Plot({color=\"green\",mark=\"*\"},Table([snrVect,ber[2,:]])),\n",
    "\t\t\t\t  LegendEntry(\"16-QAM\"),\n",
    "\n",
    "\t\t\t\t  Plot({color=\"purple\",mark=\"triangle*\"},Table([snrVect,ber[3,:]])),\n",
    "\t\t\t\t  LegendEntry(\"64-QAM\"),\n",
    "\t\t\t\t  Plot({color=\"blue\",mark=\"diamond*\"},Table([snrVect,ber[4,:]])),\n",
    "\t\t\t\t  LegendEntry(\"256-QAM\"),\n",
    "\t\t\t\t  );\n",
    "\t# ---  Adding theoretical curve\n",
    "\tsnrLin  = (10.0).^(snrVect/10)\n",
    "\tfor qamScheme = qamVect\n",
    "\t\tebNo \t= snrLin / log2(qamScheme);\n",
    "\t\t# This approximation is only valid for high SNR (one symbol error is converted to one bit error with Gray coding).\n",
    "\t\tberTheo\t  = 4 * ( 1 - 1 / sqrt(qamScheme)) / log2(qamScheme) * qFunc.(sqrt.( 2*ebNo * 3 * log2(qamScheme) / (2*(qamScheme-1)  )));\n",
    "\t\t@pgf push!(a,Plot({color=\"black\"},Table([snrVect,berTheo])));\n",
    "\tend\n",
    "\tdisplay(a);\n",
    "end \n",
    "\n",
    "\n"
   ]
  },
  {
   "cell_type": "code",
   "execution_count": 3,
   "id": "9b8bb3f4-b63a-4682-9025-6857fdd6281b",
   "metadata": {},
   "outputs": [],
   "source": [
    "qamVect\t        = [4,16,64,256];\t\t# --- Constellation size\n",
    "nbSymb\t\t\t= 1000;\t\t\t\t\t# --- Number of symbols per MC run\n",
    "nbIt\t        = 10; \t\t\t\t\t# --- MC runs\n",
    "snrVect\t        = (-10:30);\t\t\t\t# --- SNR range"
   ]
  },
  {
   "cell_type": "code",
   "execution_count": 4,
   "id": "5fc2a26a-f521-4d63-b46c-2aa3d333bbd3",
   "metadata": {},
   "outputs": [],
   "source": [
    "# --- Init vector\n",
    "nbSNR\t\t\t= length(snrVect);\n",
    "ber\t\t\t\t= zeros(Float64,length(qamVect),nbSNR);\n",
    "qamSeq\t\t\t= zeros(Complex{Float64},nbSymb);\n",
    "qamNoise\t\t= zeros(Complex{Float64},nbSymb);\n",
    "# --- MC run\n",
    "for iN = 1 : 1 : length(qamVect)\n",
    "    # ---  Setting MCS\n",
    "    mcs = qamVect[iN];\n",
    "    n\t= Int(log2(mcs));\n",
    "    # ----------------------------------------------------\n",
    "    # --- Generating data\n",
    "    # ----------------------------------------------------\n",
    "    # --- Calculate number of bits\n",
    "    nbBits\t\t= nbSymb *n;\n",
    "    # --- Init MC buffers \n",
    "    bitSeq\t    = zeros(UInt8,nbBits);\n",
    "    bitDec\t    = zeros(UInt8,nbBits);\n",
    "    # ----------------------------------------------------\n",
    "    # --- Iterative BER measure\n",
    "    # ----------------------------------------------------\n",
    "    for k = 1 : 1 : nbSNR\n",
    "        # --- Update counters\n",
    "        nbC\t\t= 0;\n",
    "        nbE\t\t= 0;\n",
    "        for iN = 1 : 1 : nbIt\n",
    "            # ---------------------------------------------------- \n",
    "            # --- Tx stage  \n",
    "            # ---------------------------------------------------- \n",
    "            # --- Create random sequence \n",
    "            # Forcing seed\n",
    "            genBitSequence!(bitSeq,nbBits);\n",
    "            # --- QPSK mapping\n",
    "            bitMappingQAM!(qamSeq,mcs,bitSeq);\n",
    "            # ---------------------------------------------------- \n",
    "            # --- Channel  \n",
    "            # ---------------------------------------------------- \n",
    "            #  --- AWGN\n",
    "            # Theoretical power is 1 (normalized constellation)\n",
    "            addNoise!(qamNoise,qamSeq,snrVect[k],1);\n",
    "            # ----------------------------------------------------\n",
    "            # --- Rx Stage: SRRC\n",
    "            # ----------------------------------------------------\n",
    "            # --- Binary demapper\n",
    "            bitDemappingQAM!(bitDec,mcs,qamNoise);\n",
    "            # --- BER measure\n",
    "            nbE\t += sum(xor.(bitDec,bitSeq));\n",
    "            nbC\t += length(bitSeq);\n",
    "        end\n",
    "        # --- BER measure\n",
    "        ber[iN,k]\t\t= nbE / nbC;\n",
    "    end\n",
    "end\n",
    "\n",
    "# --- Plotting routine\n",
    "doPlot(snrVect,ber,qamVect);\n"
   ]
  },
  {
   "cell_type": "markdown",
   "id": "de1c3b38-cd43-461f-a733-fcdd8ffb0814",
   "metadata": {},
   "source": [
    "<img src=images/jl_jUVkzGJGXM.png width='50%' height='50%' > </img>"
   ]
  },
  {
   "cell_type": "markdown",
   "id": "0bf5c015-c0c1-4b4d-b94a-24a1f1dafd4c",
   "metadata": {},
   "source": [
    "# References"
   ]
  },
  {
   "cell_type": "markdown",
   "id": "a59c13fe-12a2-4a71-8e0a-a30e49d98efd",
   "metadata": {},
   "source": [
    "- [ ] [Julia module for digital communication tools.](https://github.com/JuliaTelecom/DigitalComm.jl)\n",
    "- [ ] [Un écosystème Julia pour prototyper efficacement\n",
    "des radios logicielles: Corentin LAVAUD, Robin GERZAGUET, Matthieu GAUTIER, Olivier BERDER.](https://gretsi.fr/data/colloque/pdf/2022_gerzaguet728.pdf)"
   ]
  },
  {
   "cell_type": "code",
   "execution_count": null,
   "id": "b2951a0a-72a4-4cd0-9d14-60fd218114af",
   "metadata": {},
   "outputs": [],
   "source": []
  }
 ],
 "metadata": {
  "kernelspec": {
   "display_name": "Julia 1.9.3",
   "language": "julia",
   "name": "julia-1.9"
  },
  "language_info": {
   "file_extension": ".jl",
   "mimetype": "application/julia",
   "name": "julia",
   "version": "1.10.2"
  }
 },
 "nbformat": 4,
 "nbformat_minor": 5
}
